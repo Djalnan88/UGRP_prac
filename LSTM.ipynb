{
 "cells": [
  {
   "cell_type": "code",
   "execution_count": null,
   "id": "initial_setup",
   "metadata": {},
   "outputs": [
    {
     "name": "stdout",
     "output_type": "stream",
     "text": [
      "WARNING:tensorflow:From c:\\Users\\jalna\\AppData\\Local\\Programs\\Python\\Python311\\Lib\\site-packages\\keras\\src\\losses.py:2976: The name tf.losses.sparse_softmax_cross_entropy is deprecated. Please use tf.compat.v1.losses.sparse_softmax_cross_entropy instead.\n",
      "\n"
     ]
    }
   ],
   "source": [
    "import pandas as pd\n",
    "import numpy as np\n",
    "import ipaddress\n",
    "from sklearn.model_selection import train_test_split, GridSearchCV\n",
    "from sklearn.preprocessing import StandardScaler\n",
    "from sklearn.metrics import classification_report, accuracy_score, recall_score, f1_score\n",
    "import tensorflow as tf\n",
    "import scikeras\n",
    "from scikeras.wrappers import KerasClassifier\n",
    "from tensorflow.keras.models import Sequential\n",
    "from tensorflow.keras.layers import LSTM, Dense, Dropout\n",
    "\n",
    "train_dataset_path = 'dataset/Wednesday-workingHours.pcap_ISCX.csv'\n",
    "test_dataset_path = 'dataset/Friday-WorkingHours-Afternoon-DDos.pcap_ISCX.csv'\n",
    "\n",
    "train_data = pd.read_csv(train_dataset_path)\n",
    "test_data = pd.read_csv(test_dataset_path)\n",
    "\n"
   ]
  },
  {
   "cell_type": "code",
   "execution_count": null,
   "id": "f3cf7de7",
   "metadata": {},
   "outputs": [
    {
     "name": "stdout",
     "output_type": "stream",
     "text": [
      "Train 데이터 크기: (692703, 83)\n",
      "Test 데이터 크기: (225745, 83)\n",
      "--------------------------------------------------\n",
      "Train 데이터 레이블 분포:\n",
      "0    440031\n",
      "1    252672\n",
      "Name: count, dtype: int64\n",
      "--------------------------------------------------\n",
      "Test 데이터 레이블 분포:\n",
      "1    128027\n",
      "0     97718\n",
      "Name: count, dtype: int64\n"
     ]
    }
   ],
   "source": [
    "def convert_ip2int(ip):\n",
    "    try:\n",
    "        return int(ipaddress.ip_address(ip))\n",
    "    except ValueError:\n",
    "        return 0  # Return 0 for invalid IP addresses    \n",
    "\n",
    "def preprocess_data(data):\n",
    "    df = data.copy()\n",
    "    df.columns = df.columns.str.strip().str.replace('[ /]', '_', regex=True)\n",
    "    \n",
    "    df['Source_IP'] = df['Source_IP'].apply(convert_ip2int)\n",
    "    df['Destination_IP'] = df['Destination_IP'].apply(convert_ip2int)\n",
    "    df['Timestamp'] = pd.to_datetime(df['Timestamp'], errors='coerce').astype(np.int64)\n",
    "\n",
    "    df.replace([np.inf, -np.inf], np.nan, inplace=True)\n",
    "    df.fillna(0, inplace=True)\n",
    "\n",
    "    y = np.where(df['Label'] == 'BENIGN', 0, 1)\n",
    "    X = df.drop('Label', axis=1)\n",
    "    X = X.select_dtypes(include=np.number)\n",
    "    return X, y\n",
    "# 위의 과정을 통해 Flow ID라는 int 형태가 될 수 없는 데이터와\n",
    "# y로 분리되어 있는 Label을 제외한 나머지 데이터는 모두 숫자형으로 변환된다.\n",
    "\n",
    "X_train, y_train = preprocess_data(train_data)\n",
    "X_test, y_test = preprocess_data(test_data)\n",
    "\n",
    "print(f\"Train 데이터 크기: {X_train.shape}\")\n",
    "print(f\"Test 데이터 크기: {X_test.shape}\")\n",
    "print(\"-\" * 50)\n",
    "\n",
    "print(\"Train 데이터 레이블 분포:\")\n",
    "print(pd.Series(y_train).value_counts())\n",
    "print(\"-\" * 50)\n",
    "print(\"Test 데이터 레이블 분포:\")\n",
    "print(pd.Series(y_test).value_counts())"
   ]
  },
  {
   "cell_type": "code",
   "execution_count": null,
   "id": "lstm_model_cell",
   "metadata": {},
   "outputs": [
    {
     "name": "stdout",
     "output_type": "stream",
     "text": [
      "## LSTM 모델 학습 및 평가 ##\n"
     ]
    }
   ],
   "source": [
    "\n",
    "# 데이터 스케일링\n",
    "scaler = StandardScaler()\n",
    "X_train_scaled = scaler.fit_transform(X_train)\n",
    "X_test_scaled = scaler.transform(X_test)\n",
    "\n",
    "# LSTM 입력 형태에 맞게 데이터 재구성 (samples, timesteps, features)\n",
    "# 여기서는 각 샘플을 1개의 타임스텝으로 간주\n",
    "X_train_lstm = X_train_scaled.reshape(X_train_scaled.shape[0], 1, X_train_scaled.shape[1])\n",
    "X_test_lstm = X_test_scaled.reshape(X_test_scaled.shape[0], 1, X_test_scaled.shape[1])\n",
    "\n",
    "def create_lstm_model(lstm_units=100, dense_units=50, dropout_rate=0.2, learning_rate=0.001):\n",
    "    model = Sequential([\n",
    "        LSTM(lstm_units, activation='relu',\n",
    "        input_shape=(X_train_lstm.shape[1], X_train_lstm.shape[2])),\n",
    "        Dropout(dropout_rate),\n",
    "        Dense(dense_units, activation='relu'),\n",
    "        Dropout(dropout_rate),\n",
    "        Dense(1, activation='sigmoid')\n",
    "    ])\n",
    "    optimizer = tf.keras.optimizers.Adam(learning_rate=learning_rate)\n",
    "    model.compile(optimizer=optimizer, loss='binary_crossentropy', metrics=['accuracy'])\n",
    "    return model\n",
    "\n"
   ]
  },
  {
   "cell_type": "code",
   "execution_count": 8,
   "id": "44e6ba35",
   "metadata": {},
   "outputs": [
    {
     "name": "stdout",
     "output_type": "stream",
     "text": [
      "클래스 가중치: {0: 0.7871070447309394, 1: 1.3707553666413375}\n"
     ]
    }
   ],
   "source": [
    "# 가중치 부여\n",
    "from sklearn.utils import class_weight\n",
    "class_weights = class_weight.compute_class_weight(\n",
    "    class_weight='balanced',\n",
    "    classes=np.unique(y_train),\n",
    "    y=y_train\n",
    ")\n",
    "class_weights_dict = dict(enumerate(class_weights))\n",
    "\n",
    "print(f\"클래스 가중치: {class_weights_dict}\")"
   ]
  },
  {
   "cell_type": "code",
   "execution_count": null,
   "id": "8f2832fb",
   "metadata": {},
   "outputs": [
    {
     "ename": "NameError",
     "evalue": "name 'KerasClassifier' is not defined",
     "output_type": "error",
     "traceback": [
      "\u001b[1;31m---------------------------------------------------------------------------\u001b[0m",
      "\u001b[1;31mNameError\u001b[0m                                 Traceback (most recent call last)",
      "Cell \u001b[1;32mIn[1], line 2\u001b[0m\n\u001b[0;32m      1\u001b[0m \u001b[38;5;66;03m# LSTM 모델 정의\u001b[39;00m\n\u001b[1;32m----> 2\u001b[0m lstm_model \u001b[38;5;241m=\u001b[39m \u001b[43mKerasClassifier\u001b[49m(build_fn\u001b[38;5;241m=\u001b[39mcreate_lstm_model)\n\u001b[0;32m      4\u001b[0m grid_params \u001b[38;5;241m=\u001b[39m {\n\u001b[0;32m      5\u001b[0m     \u001b[38;5;124m'\u001b[39m\u001b[38;5;124mepochs\u001b[39m\u001b[38;5;124m'\u001b[39m: [\u001b[38;5;241m10\u001b[39m, \u001b[38;5;241m25\u001b[39m, \u001b[38;5;241m50\u001b[39m],\n\u001b[0;32m      6\u001b[0m     \u001b[38;5;124m'\u001b[39m\u001b[38;5;124mbatch_size\u001b[39m\u001b[38;5;124m'\u001b[39m: [\u001b[38;5;241m32\u001b[39m, \u001b[38;5;241m64\u001b[39m]\n\u001b[0;32m      7\u001b[0m }\n\u001b[0;32m      8\u001b[0m grid_search \u001b[38;5;241m=\u001b[39m GridSearchCV(estimator\u001b[38;5;241m=\u001b[39mlstm_model, param_grid\u001b[38;5;241m=\u001b[39mgrid_params, cv\u001b[38;5;241m=\u001b[39m\u001b[38;5;241m3\u001b[39m, scoring\u001b[38;5;241m=\u001b[39m\u001b[38;5;124m'\u001b[39m\u001b[38;5;124mf1\u001b[39m\u001b[38;5;124m'\u001b[39m , verbose\u001b[38;5;241m=\u001b[39m\u001b[38;5;241m1\u001b[39m)\n",
      "\u001b[1;31mNameError\u001b[0m: name 'KerasClassifier' is not defined"
     ]
    }
   ],
   "source": [
    "# LSTM 모델 정의 및 하이퍼파라미터 튜닝\n",
    "lstm_model = KerasClassifier(build_fn=create_lstm_model)\n",
    "\n",
    "grid_params = {\n",
    "    'epochs': [10, 25, 50],\n",
    "    'batch_size': [32, 64]\n",
    "}\n",
    "grid_search = GridSearchCV(estimator=lstm_model, param_grid=grid_params, cv=3, scoring='f1' , verbose=1)\n",
    "grid_search.fit(X_train_lstm, y_train, class_weight=class_weights_dict)\n",
    "\n",
    "print(\"최적의 파라미터:\", grid_search.best_params_)\n",
    "lstm_best_model = grid_search.best_estimator_"
   ]
  },
  {
   "cell_type": "code",
   "execution_count": null,
   "id": "500bc681",
   "metadata": {},
   "outputs": [
    {
     "name": "stdout",
     "output_type": "stream",
     "text": [
      "Epoch 1/50\n",
      "18400/18400 [==============================] - 34s 2ms/step - loss: 0.0379 - accuracy: 0.9871\n",
      "Epoch 2/50\n",
      "18400/18400 [==============================] - 32s 2ms/step - loss: 0.0159 - accuracy: 0.9958\n",
      "Epoch 3/50\n",
      "18400/18400 [==============================] - 33s 2ms/step - loss: 0.0146 - accuracy: 0.9962\n",
      "Epoch 4/50\n",
      "18400/18400 [==============================] - 33s 2ms/step - loss: 0.0137 - accuracy: 0.9964\n",
      "Epoch 5/50\n",
      "18400/18400 [==============================] - 32s 2ms/step - loss: 0.0132 - accuracy: 0.9965\n",
      "Epoch 6/50\n",
      "18400/18400 [==============================] - 33s 2ms/step - loss: 0.0125 - accuracy: 0.9967\n",
      "Epoch 7/50\n",
      "18400/18400 [==============================] - 33s 2ms/step - loss: 0.0121 - accuracy: 0.9967\n",
      "Epoch 8/50\n",
      "18400/18400 [==============================] - 33s 2ms/step - loss: 0.0119 - accuracy: 0.9968\n",
      "Epoch 9/50\n",
      "18400/18400 [==============================] - 33s 2ms/step - loss: 0.0116 - accuracy: 0.9969\n",
      "Epoch 10/50\n",
      "18400/18400 [==============================] - 33s 2ms/step - loss: 0.0114 - accuracy: 0.9969\n",
      "Epoch 11/50\n",
      "18400/18400 [==============================] - 33s 2ms/step - loss: 0.0112 - accuracy: 0.9970\n",
      "Epoch 12/50\n",
      "18400/18400 [==============================] - 33s 2ms/step - loss: 0.0112 - accuracy: 0.9970\n",
      "Epoch 13/50\n",
      "18400/18400 [==============================] - 33s 2ms/step - loss: 0.0111 - accuracy: 0.9970\n",
      "Epoch 14/50\n",
      "18400/18400 [==============================] - 33s 2ms/step - loss: 0.0109 - accuracy: 0.9970\n",
      "Epoch 15/50\n",
      "18400/18400 [==============================] - 33s 2ms/step - loss: 0.0107 - accuracy: 0.9971\n",
      "Epoch 16/50\n",
      "18400/18400 [==============================] - 33s 2ms/step - loss: 0.0105 - accuracy: 0.9971\n",
      "Epoch 17/50\n",
      "18400/18400 [==============================] - 33s 2ms/step - loss: 0.0105 - accuracy: 0.9971\n",
      "Epoch 18/50\n",
      "18400/18400 [==============================] - 33s 2ms/step - loss: 0.0104 - accuracy: 0.9971\n",
      "Epoch 19/50\n",
      "18400/18400 [==============================] - 33s 2ms/step - loss: 0.0102 - accuracy: 0.9971\n",
      "Epoch 20/50\n",
      "18400/18400 [==============================] - 33s 2ms/step - loss: 0.0102 - accuracy: 0.9971\n",
      "Epoch 21/50\n",
      "18400/18400 [==============================] - 33s 2ms/step - loss: 0.0101 - accuracy: 0.9971\n",
      "Epoch 22/50\n",
      "18400/18400 [==============================] - 33s 2ms/step - loss: 0.0099 - accuracy: 0.9971\n",
      "Epoch 23/50\n",
      "18400/18400 [==============================] - 33s 2ms/step - loss: 0.0099 - accuracy: 0.9971\n",
      "Epoch 24/50\n",
      "18400/18400 [==============================] - 33s 2ms/step - loss: 0.0100 - accuracy: 0.9971\n",
      "Epoch 25/50\n",
      "18400/18400 [==============================] - 33s 2ms/step - loss: 0.0101 - accuracy: 0.9971\n",
      "Epoch 26/50\n",
      "18400/18400 [==============================] - 33s 2ms/step - loss: 0.0096 - accuracy: 0.9972\n",
      "Epoch 27/50\n",
      "18400/18400 [==============================] - 33s 2ms/step - loss: 0.0094 - accuracy: 0.9972\n",
      "Epoch 28/50\n",
      "18400/18400 [==============================] - 33s 2ms/step - loss: 0.0097 - accuracy: 0.9972\n",
      "Epoch 29/50\n",
      "18400/18400 [==============================] - 33s 2ms/step - loss: 0.0096 - accuracy: 0.9972\n",
      "Epoch 30/50\n",
      "18400/18400 [==============================] - 33s 2ms/step - loss: 0.0096 - accuracy: 0.9971\n",
      "Epoch 31/50\n",
      "18400/18400 [==============================] - 33s 2ms/step - loss: 0.0098 - accuracy: 0.9972\n",
      "Epoch 32/50\n",
      "18400/18400 [==============================] - 33s 2ms/step - loss: 0.0095 - accuracy: 0.9972\n",
      "Epoch 33/50\n",
      "18400/18400 [==============================] - 33s 2ms/step - loss: 0.0096 - accuracy: 0.9972\n",
      "Epoch 34/50\n",
      "18400/18400 [==============================] - 33s 2ms/step - loss: 0.0097 - accuracy: 0.9972\n",
      "Epoch 35/50\n",
      "18400/18400 [==============================] - 33s 2ms/step - loss: 0.0097 - accuracy: 0.9972\n",
      "Epoch 36/50\n",
      "18400/18400 [==============================] - 33s 2ms/step - loss: 0.0094 - accuracy: 0.9972\n",
      "Epoch 37/50\n",
      "18400/18400 [==============================] - 33s 2ms/step - loss: 0.0095 - accuracy: 0.9972\n",
      "Epoch 38/50\n",
      "18400/18400 [==============================] - 33s 2ms/step - loss: 0.0094 - accuracy: 0.9972\n",
      "Epoch 39/50\n",
      "18400/18400 [==============================] - 33s 2ms/step - loss: 0.0093 - accuracy: 0.9972\n",
      "Epoch 40/50\n",
      "18400/18400 [==============================] - 32s 2ms/step - loss: 0.0097 - accuracy: 0.9973\n",
      "Epoch 41/50\n",
      "18400/18400 [==============================] - 33s 2ms/step - loss: 0.0093 - accuracy: 0.9973\n",
      "Epoch 42/50\n",
      "18400/18400 [==============================] - 32s 2ms/step - loss: 0.0096 - accuracy: 0.9972\n",
      "Epoch 43/50\n",
      "18400/18400 [==============================] - 33s 2ms/step - loss: 0.0094 - accuracy: 0.9972\n",
      "Epoch 44/50\n",
      "18400/18400 [==============================] - 33s 2ms/step - loss: 0.0094 - accuracy: 0.9973\n",
      "Epoch 45/50\n",
      "18400/18400 [==============================] - 33s 2ms/step - loss: 0.0092 - accuracy: 0.9973\n",
      "Epoch 46/50\n",
      "18400/18400 [==============================] - 35s 2ms/step - loss: 0.0092 - accuracy: 0.9973\n",
      "Epoch 47/50\n",
      "18400/18400 [==============================] - 34s 2ms/step - loss: 0.0093 - accuracy: 0.9973\n",
      "Epoch 48/50\n",
      "18400/18400 [==============================] - 33s 2ms/step - loss: 0.0097 - accuracy: 0.9973\n",
      "Epoch 49/50\n",
      "18400/18400 [==============================] - 33s 2ms/step - loss: 0.0093 - accuracy: 0.9973\n",
      "Epoch 50/50\n",
      "18400/18400 [==============================] - 33s 2ms/step - loss: 0.0096 - accuracy: 0.9973\n",
      "모델 학습 시간: 1640.7398 초\n"
     ]
    }
   ],
   "source": [
    "## 최적의 하이퍼파라미터로 재학습\n",
    "import time\n",
    "\n",
    "start_time = time.time()\n",
    "lstm_best_model.fit(X_train_lstm, y_train, epochs=grid_search.best_params_['epochs'], batch_size=grid_search.best_params_['batch_size'])\n",
    "end_time = time.time()\n",
    "print(f\"모델 학습 시간: {end_time - start_time:.4f} 초\")"
   ]
  },
  {
   "cell_type": "code",
   "execution_count": null,
   "id": "bb5d6183",
   "metadata": {},
   "outputs": [
    {
     "name": "stdout",
     "output_type": "stream",
     "text": [
      "3248/3248 [==============================] - 3s 862us/step\n",
      "[LSTM 모델 최적화 결과]\n",
      " - 하이퍼파라미터: {'Epochs': 50, 'Batch Size': 32}\n",
      " - 정확도 (Accuracy): 0.9971\n",
      " - 재현율 (Recall): 0.9998\n",
      " - F1-Score: 0.9961\n",
      " - 학습 시간: 1640.7398초\n",
      "--------------------------------------------------\n"
     ]
    }
   ],
   "source": [
    "\n",
    "# 모델 평가\n",
    "#loss, accuracy = lstm_best_model.model_.evaluate(X_test_lstm, y_test, verbose=0)\n",
    "y_pred_lstm_proba = lstm_best_model.predict(X_test_lstm)\n",
    "y_pred_lstm = (y_pred_lstm_proba > 0.5).astype(int)\n",
    "\n",
    "print(\"[LSTM 모델 최적화 결과]\")\n",
    "print(f\" - 하이퍼파라미터: {grid_search.best_params_}\")\n",
    "print(f\" - 정확도 (Accuracy): {accuracy_score(y_test, y_pred_lstm):.4f}\")\n",
    "print(f\" - 재현율 (Recall): {recall_score(y_test, y_pred_lstm):.4f}\")\n",
    "print(f\" - F1-Score: {f1_score(y_test, y_pred_lstm):.4f}\")\n",
    "print(f\" - 학습 시간: {end_time - start_time:.4f}초\")\n",
    "print(\"-\" * 50)\n"
   ]
  },
  {
   "cell_type": "code",
   "execution_count": 11,
   "id": "eb212535",
   "metadata": {},
   "outputs": [
    {
     "data": {
      "text/plain": [
       "Text(0.5, 1.0, 'ROC Curve for LSTM Model')"
      ]
     },
     "execution_count": 11,
     "metadata": {},
     "output_type": "execute_result"
    },
    {
     "data": {
      "image/png": "[encoded data removed]",
      "text/plain": [
       "<Figure size 576x432 with 1 Axes>"
      ]
     },
     "metadata": {
      "needs_background": "light"
     },
     "output_type": "display_data"
    }
   ],
   "source": [
    "## ROC 곡선 및 AUC\n",
    "import matplotlib.pyplot as plt\n",
    "from sklearn.metrics import roc_curve, auc\n",
    "\n",
    "fpr, tpr, thresholds = roc_curve(y_test, y_pred_lstm_proba)\n",
    "roc_auc = auc(fpr, tpr)\n",
    "plt.figure(figsize=(8, 6))\n",
    "plt.plot(fpr, tpr, color='red', label=f'LSTM (AUC = {roc_auc:.2f})')\n",
    "plt.xlabel('False Positive Rate')\n",
    "plt.ylabel('True Positive Rate')\n",
    "plt.plot([0, 1], [0, 1], color='grey', linestyle='--')\n",
    "plt.title('ROC Curve for LSTM Model')"
   ]
  },
  {
   "cell_type": "code",
   "execution_count": null,
   "id": "4991672b",
   "metadata": {},
   "outputs": [
    {
     "ename": "NameError",
     "evalue": "name 'lstm_best_model' is not defined",
     "output_type": "error",
     "traceback": [
      "\u001b[1;31m---------------------------------------------------------------------------\u001b[0m",
      "\u001b[1;31mNameError\u001b[0m                                 Traceback (most recent call last)",
      "Cell \u001b[1;32mIn[6], line 8\u001b[0m\n\u001b[0;32m      5\u001b[0m save_path \u001b[38;5;241m=\u001b[39m \u001b[38;5;124m'\u001b[39m\u001b[38;5;124mmodels/lstm_model.h5\u001b[39m\u001b[38;5;124m'\u001b[39m\n\u001b[0;32m      6\u001b[0m os\u001b[38;5;241m.\u001b[39mmakedirs(os\u001b[38;5;241m.\u001b[39mpath\u001b[38;5;241m.\u001b[39mdirname(save_path), exist_ok\u001b[38;5;241m=\u001b[39m\u001b[38;5;28;01mTrue\u001b[39;00m)\n\u001b[1;32m----> 8\u001b[0m \u001b[43mlstm_best_model\u001b[49m\u001b[38;5;241m.\u001b[39msave_model(save_path)\n\u001b[0;32m      9\u001b[0m \u001b[38;5;28mprint\u001b[39m(\u001b[38;5;124mf\u001b[39m\u001b[38;5;124m\"\u001b[39m\u001b[38;5;124mLSTM 모델이 \u001b[39m\u001b[38;5;132;01m{\u001b[39;00msave_path\u001b[38;5;132;01m}\u001b[39;00m\u001b[38;5;124m에 저장되었습니다.\u001b[39m\u001b[38;5;124m\"\u001b[39m)\n",
      "\u001b[1;31mNameError\u001b[0m: name 'lstm_best_model' is not defined"
     ]
    }
   ],
   "source": [
    "import joblib\n",
    "import os\n",
    "\n",
    "save_path = 'models/lstm_model.h5'\n",
    "os.makedirs(os.path.dirname(save_path), exist_ok=True)\n",
    "\n",
    "lstm_best_model.model_.save(save_path)\n",
    "print(f\"LSTM 모델이 {save_path}에 저장되었습니다.\")\n"
   ]
  }
 ],
 "metadata": {
  "kernelspec": {
   "display_name": "Python 3",
   "language": "python",
   "name": "python3"
  },
  "language_info": {
   "codemirror_mode": {
    "name": "ipython",
    "version": 3
   },
   "file_extension": ".py",
   "mimetype": "text/x-python",
   "name": "python",
   "nbconvert_exporter": "python",
   "pygments_lexer": "ipython3",
   "version": "3.11.5"
  }
 },
 "nbformat": 4,
 "nbformat_minor": 5
}
