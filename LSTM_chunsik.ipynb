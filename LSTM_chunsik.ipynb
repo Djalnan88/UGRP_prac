{
 "cells": [
  {
   "cell_type": "code",
   "execution_count": 10,
   "id": "2c99f695",
   "metadata": {},
   "outputs": [],
   "source": [
    "import os\n",
    "import time\n",
    "\n",
    "import numpy as np\n",
    "import pandas as pd\n",
    "import tensorflow as tf\n",
    "from sklearn.utils import class_weight\n",
    "from sklearn.metrics import classification_report, accuracy_score, recall_score, f1_score\n",
    "from sklearn.preprocessing import MinMaxScaler\n",
    "from tensorflow.keras.models import Sequential\n",
    "from tensorflow.keras.layers import LSTM, Dense, Dropout\n",
    "import ipaddress"
   ]
  },
  {
   "cell_type": "code",
   "execution_count": 11,
   "id": "a4777a53",
   "metadata": {},
   "outputs": [],
   "source": [
    "def convert_ip2int(ip):\n",
    "    return int(ipaddress.ip_address(ip))"
   ]
  },
  {
   "cell_type": "code",
   "execution_count": 12,
   "id": "d66e3091",
   "metadata": {},
   "outputs": [],
   "source": [
    "DROP_COLS = []  # 실제 컬럼명에 맞게 정리\n",
    "BAD_RATE_COLS = []           # 필요시 더 추가\n",
    "\n",
    "def make_sequences(df, time_steps=20):\n",
    "    # 1) Timestamp 파싱/정렬\n",
    "    df['Timestamp'] = pd.to_datetime(df['Timestamp'], errors='coerce', utc=True)\n",
    "    df = df.dropna(subset=['Timestamp']).sort_values('Timestamp')\n",
    "\n",
    "    # 2) 라벨 이진화\n",
    "    df['Label'] = (df['Label'] != 'BENIGN').astype(int)\n",
    "    \n",
    "    # 3) IP 주소 정수 변환\n",
    "    df['Source IP'] = df['Source IP'].astype(str).apply(convert_ip2int)\n",
    "    df['Destination IP'] = df['Destination IP'].astype(str).apply(convert_ip2int)\n",
    "\n",
    "    # 4) 식별자/문제 컬럼 제거\n",
    "    drop_cols = [c for c in DROP_COLS if c in df.columns] + [c for c in BAD_RATE_COLS if c in df.columns]\n",
    "    df = df.drop(columns=drop_cols, errors='ignore')\n",
    "\n",
    "    # 5) 수치형만 사용, inf/NaN 정리\n",
    "    df.replace([np.inf, -np.inf], np.nan, inplace=True)\n",
    "    df = df.dropna()  # or feature-wise impute\n",
    "\n",
    "    # 6) 슬라이딩 윈도우 (전역 흐름 순서 기준; 필요 시 Source IP 등으로 groupby 후 적용)\n",
    "    num_cols = df.select_dtypes(include=np.number).columns.tolist()\n",
    "    X, y = [], []\n",
    "    vals = df[num_cols].values\n",
    "    labels = df['Label'].values\n",
    "    for i in range(len(df) - time_steps + 1):\n",
    "        X.append(vals[i:i+time_steps])\n",
    "        y.append(labels[i + time_steps-1])\n",
    "    \n",
    "    return np.asarray(X), np.asarray(y)"
   ]
  },
  {
   "cell_type": "code",
   "execution_count": 13,
   "id": "ff353a39",
   "metadata": {},
   "outputs": [
    {
     "name": "stdout",
     "output_type": "stream",
     "text": [
      "학습 데이터 형태: (2136407, 10, 83), (2136407,)\n",
      "테스트 데이터 형태: (691397, 10, 83), (691397,)\n",
      "--------------------------------------------------\n"
     ]
    }
   ],
   "source": [
    "data_path = 'dataset/'\n",
    "all_files = [f for f in os.listdir(data_path) if f.endswith('.csv')]\n",
    "train_files = [f for f in all_files if 'Wednesday' not in f]\n",
    "test_files = [f for f in all_files if 'Wednesday' in f]\n",
    "\n",
    "TIME_STEPS = 10\n",
    "\n",
    "X_train_list, y_train_list = [], []\n",
    "for file_name in train_files:\n",
    "    file_path = os.path.join(data_path, file_name)\n",
    "    df = pd.read_csv(file_path, encoding='latin1', low_memory=False, on_bad_lines='skip')\n",
    "    df.columns = df.columns.str.strip()\n",
    "\n",
    "    X_temp, y_temp = make_sequences(df, time_steps=TIME_STEPS)\n",
    "    X_train_list.append(X_temp)\n",
    "    y_train_list.append(y_temp)\n",
    "\n",
    "X_test_list, y_test_list = [], []\n",
    "for file_name in test_files:\n",
    "    file_path = os.path.join(data_path, file_name)\n",
    "    df = pd.read_csv(file_path, encoding='latin1', low_memory=False, on_bad_lines='skip')\n",
    "    df.columns = df.columns.str.strip()\n",
    "\n",
    "    X_temp, y_temp = make_sequences(df, time_steps=TIME_STEPS)\n",
    "    X_test_list.append(X_temp)\n",
    "    y_test_list.append(y_temp)\n",
    "\n",
    "X_train_seq = np.concatenate(X_train_list, axis=0)\n",
    "y_train_seq = np.concatenate(y_train_list, axis=0)\n",
    "X_test_seq = np.concatenate(X_test_list, axis=0)\n",
    "y_test_seq = np.concatenate(y_test_list, axis=0)\n",
    "\n",
    "scaler = MinMaxScaler()\n",
    "\n",
    "nsamples, nsteps, nfeatures = X_train_seq.shape\n",
    "X_train_2d = X_train_seq.reshape((nsamples * nsteps, nfeatures))\n",
    "X_train_scaled_2d = scaler.fit_transform(X_train_2d)\n",
    "X_train_scaled_seq = X_train_scaled_2d.reshape((nsamples, nsteps, nfeatures))\n",
    "\n",
    "nsamples_test, nsteps_test, nfeatures_test = X_test_seq.shape\n",
    "X_test_2d = X_test_seq.reshape((nsamples_test * nsteps_test, nfeatures_test))\n",
    "X_test_scaled_2d = scaler.transform(X_test_2d)\n",
    "X_test_scaled_seq = X_test_scaled_2d.reshape((nsamples_test, nsteps_test, nfeatures_test))\n",
    "\n",
    "print(f\"학습 데이터 형태: {X_train_seq.shape}, {y_train_seq.shape}\")\n",
    "print(f\"테스트 데이터 형태: {X_test_seq.shape}, {y_test_seq.shape}\")\n",
    "print(\"-\" * 50)"
   ]
  },
  {
   "cell_type": "code",
   "execution_count": 14,
   "id": "4d2ad81c",
   "metadata": {},
   "outputs": [
    {
     "name": "stdout",
     "output_type": "stream",
     "text": [
      "클래스 가중치: {0: 0.5832161299516154, 1: 3.504225264325057}\n"
     ]
    }
   ],
   "source": [
    "class_weights = class_weight.compute_class_weight(\n",
    "    class_weight='balanced',\n",
    "    classes=np.unique(y_train_seq),\n",
    "    y=y_train_seq\n",
    ")\n",
    "class_weights_dict = dict(enumerate(class_weights))\n",
    "\n",
    "print(f\"클래스 가중치: {class_weights_dict}\")"
   ]
  },
  {
   "cell_type": "code",
   "execution_count": 15,
   "id": "ae698297",
   "metadata": {},
   "outputs": [
    {
     "name": "stdout",
     "output_type": "stream",
     "text": [
      "LSTM 모델 학습 시작...\n",
      "Epoch 1/10\n",
      "66763/66763 [==============================] - 411s 6ms/step - loss: 0.0011 - accuracy: 0.9998\n",
      "Epoch 2/10\n",
      "66763/66763 [==============================] - 406s 6ms/step - loss: 2.3272e-10 - accuracy: 1.0000\n",
      "Epoch 3/10\n",
      "66763/66763 [==============================] - 406s 6ms/step - loss: 2.5399e-05 - accuracy: 1.0000\n",
      "Epoch 4/10\n",
      "66763/66763 [==============================] - 408s 6ms/step - loss: 1.6316e-10 - accuracy: 1.0000\n",
      "Epoch 5/10\n",
      "66763/66763 [==============================] - 407s 6ms/step - loss: 4.7691e-12 - accuracy: 1.0000\n",
      "Epoch 6/10\n",
      "66763/66763 [==============================] - 408s 6ms/step - loss: 2.2409e-11 - accuracy: 1.0000\n",
      "Epoch 7/10\n",
      "66763/66763 [==============================] - 407s 6ms/step - loss: 3.2474e-12 - accuracy: 1.0000\n",
      "Epoch 8/10\n",
      "66763/66763 [==============================] - 407s 6ms/step - loss: 1.4276e-12 - accuracy: 1.0000\n",
      "Epoch 9/10\n",
      "66763/66763 [==============================] - 407s 6ms/step - loss: 6.1386e-13 - accuracy: 1.0000\n",
      "Epoch 10/10\n",
      "66763/66763 [==============================] - 407s 6ms/step - loss: 4.3908e-13 - accuracy: 1.0000\n",
      "LSTM 모델 학습 완료.\n"
     ]
    }
   ],
   "source": [
    "## LSTM\n",
    "def create_lstm_model(input_shape, lstm_units=100, dense_units=50, dropout_rate=0.2, learning_rate=0.001):\n",
    "    model = Sequential([\n",
    "        LSTM(lstm_units, activation='tanh', input_shape=input_shape),\n",
    "        Dropout(dropout_rate),\n",
    "        Dense(dense_units, activation='relu'),\n",
    "        Dropout(dropout_rate),\n",
    "        Dense(1, activation='sigmoid')\n",
    "    ])\n",
    "    optimizer = tf.keras.optimizers.Adam(learning_rate=learning_rate)\n",
    "    model.compile(optimizer=optimizer, loss='binary_crossentropy', metrics=['accuracy'])\n",
    "    return model\n",
    "\n",
    "print(\"LSTM 모델 학습 시작...\")\n",
    "LSTM_starttime = time.time()\n",
    "\n",
    "input_shape = (X_train_scaled_seq.shape[1], X_train_scaled_seq.shape[2])\n",
    "\n",
    "lstm_model = create_lstm_model(input_shape=input_shape)\n",
    "\n",
    "history = lstm_model.fit(\n",
    "    X_train_scaled_seq,\n",
    "    y_train_seq,\n",
    "    epochs=10,\n",
    "    batch_size=32,\n",
    "    verbose=1,\n",
    "    class_weight=class_weights_dict\n",
    ")\n",
    "LSTM_endtime = time.time()\n",
    "LSTM_time = LSTM_endtime - LSTM_starttime\n",
    "print(\"LSTM 모델 학습 완료.\")"
   ]
  },
  {
   "cell_type": "code",
   "execution_count": 16,
   "id": "2b88c758",
   "metadata": {},
   "outputs": [
    {
     "name": "stdout",
     "output_type": "stream",
     "text": [
      "21607/21607 [==============================] - 45s 2ms/step\n",
      "\n",
      "Evaluating model performance on the Test set...\n",
      "\n",
      "--- LSTM Results---\n",
      "Accuracy: 1.0000\n",
      "Recall:   1.0000\n",
      "F1-Score: 1.0000\n",
      "\n",
      "Classification Report:\n",
      "              precision    recall  f1-score   support\n",
      "\n",
      "  BENIGN (0)       1.00      1.00      1.00    439674\n",
      "  ATTACK (1)       1.00      1.00      1.00    251723\n",
      "\n",
      "    accuracy                           1.00    691397\n",
      "   macro avg       1.00      1.00      1.00    691397\n",
      "weighted avg       1.00      1.00      1.00    691397\n",
      "\n"
     ]
    }
   ],
   "source": [
    "\n",
    "y_pred_lstm_prob = lstm_model.predict(X_test_scaled_seq).flatten()\n",
    "y_pred_lstm = (y_pred_lstm_prob > 0.5).astype(int)\n",
    "accuracy_lstm = accuracy_score(y_test_seq, y_pred_lstm)\n",
    "recall_lstm = recall_score(y_test_seq, y_pred_lstm)\n",
    "f1_lstm = f1_score(y_test_seq, y_pred_lstm)\n",
    "report = classification_report(y_test_seq, y_pred_lstm, target_names=['BENIGN (0)', 'ATTACK (1)'])\n",
    "\n",
    "print(\"\\nEvaluating model performance on the Test set...\")\n",
    "# Predict on the separate test set\n",
    "print(f\"\\n--- LSTM Results---\")\n",
    "print(f\"Accuracy: {accuracy_lstm:.4f}\")\n",
    "print(f\"Recall:   {recall_lstm:.4f}\")\n",
    "print(f\"F1-Score: {f1_lstm:.4f}\")\n",
    "print(\"\\nClassification Report:\")\n",
    "print(report)"
   ]
  },
  {
   "cell_type": "code",
   "execution_count": 17,
   "id": "2f2c813e",
   "metadata": {},
   "outputs": [
    {
     "data": {
      "image/png": "[encoded data removed]",
      "text/plain": [
       "<Figure size 432x288 with 1 Axes>"
      ]
     },
     "metadata": {
      "needs_background": "light"
     },
     "output_type": "display_data"
    }
   ],
   "source": [
    "## ROC Curve\n",
    "from matplotlib import pyplot as plt\n",
    "from sklearn.metrics import auc, roc_curve\n",
    "\n",
    "\n",
    "fpr_lstm, tpr_lstm, _ = roc_curve(y_test_seq, y_pred_lstm_prob)\n",
    "roc_auc_lstm = auc(fpr_lstm, tpr_lstm)\n",
    "plt.plot(fpr_lstm, tpr_lstm, color='blue', label=f'LSTM (AUC = {roc_auc_lstm:.4f})')\n",
    "\n",
    "plt.plot([0, 1], [0, 1], color='grey', linestyle='--')\n",
    "plt.xlabel('False Positive Rate')\n",
    "plt.ylabel('True Positive Rate')\n",
    "plt.title('ROC Curve Comparison')\n",
    "plt.legend()\n",
    "plt.grid()\n",
    "plt.show()"
   ]
  },
  {
   "cell_type": "code",
   "execution_count": 18,
   "id": "cac7a576",
   "metadata": {},
   "outputs": [
    {
     "data": {
      "image/png": "[encoded data removed]",
      "text/plain": [
       "<Figure size 576x432 with 2 Axes>"
      ]
     },
     "metadata": {
      "needs_background": "light"
     },
     "output_type": "display_data"
    }
   ],
   "source": [
    "# Confusion Matrix\n",
    "from sklearn.metrics import confusion_matrix\n",
    "import seaborn as sns\n",
    "\n",
    "cm_lstm = confusion_matrix(y_test_seq, y_pred_lstm)\n",
    "plt.figure(figsize=(8, 6))\n",
    "sns.heatmap(cm_lstm, annot=True, fmt='d', cmap='Oranges', xticklabels=['BENIGN', 'ATTACK'], yticklabels=['BENIGN', 'ATTACK'])\n",
    "plt.title('Confusion Matrix - LSTM')\n",
    "plt.ylabel('Actual Label')\n",
    "plt.xlabel('Predicted Label')\n",
    "plt.show()"
   ]
  }
 ],
 "metadata": {
  "kernelspec": {
   "display_name": "Python 3",
   "language": "python",
   "name": "python3"
  },
  "language_info": {
   "codemirror_mode": {
    "name": "ipython",
    "version": 3
   },
   "file_extension": ".py",
   "mimetype": "text/x-python",
   "name": "python",
   "nbconvert_exporter": "python",
   "pygments_lexer": "ipython3",
   "version": "3.8.10"
  }
 },
 "nbformat": 4,
 "nbformat_minor": 5
}
