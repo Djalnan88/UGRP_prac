{
 "cells": [
  {
   "cell_type": "code",
   "execution_count": 1,
   "id": "42096c77",
   "metadata": {},
   "outputs": [],
   "source": [
    "import pandas as pd\n",
    "import numpy as np\n",
    "from sklearn.model_selection import train_test_split, GridSearchCV\n",
    "from sklearn.ensemble import RandomForestClassifier\n",
    "from sklearn.metrics import classification_report, accuracy_score, recall_score, f1_score\n",
    "\n",
    "file_path = 'dataset/Wednesday-workingHours.pcap_ISCX.csv'\n",
    "data = pd.read_csv(file_path)"
   ]
  },
  {
   "cell_type": "code",
   "execution_count": 2,
   "id": "e161d23f",
   "metadata": {},
   "outputs": [
    {
     "name": "stdout",
     "output_type": "stream",
     "text": [
      "Train 데이터 크기: (588797, 78)\n",
      "Test 데이터 크기: (103906, 78)\n",
      "--------------------------------------------------\n"
     ]
    }
   ],
   "source": [
    "df = data.copy()\n",
    "df = df.sample(frac=1, random_state=42).reset_index(drop=True)\n",
    "df.columns = df.columns.str.strip().str.replace('[ /]', '_', regex=True)\n",
    "df.replace([np.inf, -np.inf], np.nan, inplace=True)\n",
    "df.fillna(0, inplace=True)\n",
    "\n",
    "X = df.drop('Label', axis=1)\n",
    "y = df['Label']\n",
    "y_binary = np.where(y == 'BENIGN', 0, 1)\n",
    "\n",
    "X_train, X_test, y_train, y_test = train_test_split(\n",
    "    X, y_binary, test_size=0.15, random_state=42, stratify=y_binary\n",
    ")\n",
    "\n",
    "print(f\"Train 데이터 크기: {X_train.shape}\")\n",
    "print(f\"Test 데이터 크기: {X_test.shape}\")\n",
    "print(\"-\" * 50)"
   ]
  },
  {
   "cell_type": "code",
   "execution_count": 4,
   "id": "b65f6773",
   "metadata": {},
   "outputs": [
    {
     "name": "stdout",
     "output_type": "stream",
     "text": [
      "## 1. 전체 Feature를 사용한 모델 학습 및 평가 ##\n",
      "최적의 하이퍼파라미터: {'max_depth': 20, 'min_samples_leaf': 1, 'n_estimators': 100}\n",
      "모델 정확도: 0.9995\n",
      "재현율 (Recall): 0.9996\n",
      "F1-Score: 0.9994\n",
      "성능 리포트:\n",
      "              precision    recall  f1-score   support\n",
      "\n",
      "  BENIGN (0)       1.00      1.00      1.00     66005\n",
      "  ATTACK (1)       1.00      1.00      1.00     37901\n",
      "\n",
      "    accuracy                           1.00    103906\n",
      "   macro avg       1.00      1.00      1.00    103906\n",
      "weighted avg       1.00      1.00      1.00    103906\n",
      "\n",
      "--------------------------------------------------\n"
     ]
    }
   ],
   "source": [
    "print(\"## 1. 전체 Feature를 사용한 모델 학습 및 평가 ##\")\n",
    "\n",
    "param_grid = {\n",
    "    'n_estimators': [50, 100],\n",
    "    'max_depth': [10, 20, None],\n",
    "    'min_samples_leaf': [1, 3, 5]\n",
    "}\n",
    "\n",
    "grid_search = GridSearchCV(\n",
    "    estimator=RandomForestClassifier(random_state=42, n_jobs=-1),\n",
    "    param_grid=param_grid,\n",
    "    scoring='f1',\n",
    "    cv=3\n",
    ")\n",
    "grid_search.fit(X_train, y_train)\n",
    "\n",
    "print(\"최적의 하이퍼파라미터:\", grid_search.best_params_)\n",
    "model_full = grid_search.best_estimator_\n",
    "\n",
    "y_pred_full = model_full.predict(X_test)\n",
    "accuracy_full = accuracy_score(y_test, y_pred_full)\n",
    "recall_full = recall_score(y_test, y_pred_full)\n",
    "f1_full = f1_score(y_test, y_pred_full)\n",
    "\n",
    "print(f\"모델 정확도: {accuracy_full:.4f}\")\n",
    "print(f\"재현율 (Recall): {recall_full:.4f}\")\n",
    "print(f\"F1-Score: {f1_full:.4f}\")\n",
    "print(\"성능 리포트:\")\n",
    "print(classification_report(y_test, y_pred_full, target_names=['BENIGN (0)', 'ATTACK (1)']))\n",
    "print(\"-\" * 50)"
   ]
  },
  {
   "cell_type": "code",
   "execution_count": 5,
   "id": "e3ad826a",
   "metadata": {},
   "outputs": [
    {
     "name": "stdout",
     "output_type": "stream",
     "text": [
      "## 2. Gini 중요도 기반 상위 10개 특성 추출 ##\n",
      "상위 10개 특성:\n",
      "                   feature  importance\n",
      "54    Avg_Bwd_Segment_Size    0.073048\n",
      "39       Max_Packet_Length    0.066022\n",
      "10   Bwd_Packet_Length_Max    0.063546\n",
      "41       Packet_Length_Std    0.055580\n",
      "52     Average_Packet_Size    0.055403\n",
      "0         Destination_Port    0.052953\n",
      "37           Bwd_Packets_s    0.048549\n",
      "13   Bwd_Packet_Length_Std    0.044506\n",
      "40      Packet_Length_Mean    0.044022\n",
      "42  Packet_Length_Variance    0.042012\n",
      "--------------------------------------------------\n"
     ]
    }
   ],
   "source": [
    "print(\"## 2. Gini 중요도 기반 상위 10개 특성 추출 ##\")\n",
    "importances = model_full.feature_importances_\n",
    "feature_importances = pd.DataFrame({'feature': X.columns, 'importance': importances})\n",
    "feature_importances = feature_importances.sort_values('importance', ascending=False)\n",
    "top_10_feature_names = feature_importances.head(10)['feature'].tolist()\n",
    "\n",
    "print(\"상위 10개 특성:\")\n",
    "print(feature_importances.head(10))\n",
    "print(\"-\" * 50)"
   ]
  },
  {
   "cell_type": "code",
   "execution_count": null,
   "id": "b3609c20",
   "metadata": {},
   "outputs": [
    {
     "name": "stdout",
     "output_type": "stream",
     "text": [
      "## 3. 상위 10개 특성만 사용한 모델 학습 및 평가 ##\n"
     ]
    },
    {
     "data": {
      "text/html": [
       "<style>#sk-container-id-1 {color: black;}#sk-container-id-1 pre{padding: 0;}#sk-container-id-1 div.sk-toggleable {background-color: white;}#sk-container-id-1 label.sk-toggleable__label {cursor: pointer;display: block;width: 100%;margin-bottom: 0;padding: 0.3em;box-sizing: border-box;text-align: center;}#sk-container-id-1 label.sk-toggleable__label-arrow:before {content: \"▸\";float: left;margin-right: 0.25em;color: #696969;}#sk-container-id-1 label.sk-toggleable__label-arrow:hover:before {color: black;}#sk-container-id-1 div.sk-estimator:hover label.sk-toggleable__label-arrow:before {color: black;}#sk-container-id-1 div.sk-toggleable__content {max-height: 0;max-width: 0;overflow: hidden;text-align: left;background-color: #f0f8ff;}#sk-container-id-1 div.sk-toggleable__content pre {margin: 0.2em;color: black;border-radius: 0.25em;background-color: #f0f8ff;}#sk-container-id-1 input.sk-toggleable__control:checked~div.sk-toggleable__content {max-height: 200px;max-width: 100%;overflow: auto;}#sk-container-id-1 input.sk-toggleable__control:checked~label.sk-toggleable__label-arrow:before {content: \"▾\";}#sk-container-id-1 div.sk-estimator input.sk-toggleable__control:checked~label.sk-toggleable__label {background-color: #d4ebff;}#sk-container-id-1 div.sk-label input.sk-toggleable__control:checked~label.sk-toggleable__label {background-color: #d4ebff;}#sk-container-id-1 input.sk-hidden--visually {border: 0;clip: rect(1px 1px 1px 1px);clip: rect(1px, 1px, 1px, 1px);height: 1px;margin: -1px;overflow: hidden;padding: 0;position: absolute;width: 1px;}#sk-container-id-1 div.sk-estimator {font-family: monospace;background-color: #f0f8ff;border: 1px dotted black;border-radius: 0.25em;box-sizing: border-box;margin-bottom: 0.5em;}#sk-container-id-1 div.sk-estimator:hover {background-color: #d4ebff;}#sk-container-id-1 div.sk-parallel-item::after {content: \"\";width: 100%;border-bottom: 1px solid gray;flex-grow: 1;}#sk-container-id-1 div.sk-label:hover label.sk-toggleable__label {background-color: #d4ebff;}#sk-container-id-1 div.sk-serial::before {content: \"\";position: absolute;border-left: 1px solid gray;box-sizing: border-box;top: 0;bottom: 0;left: 50%;z-index: 0;}#sk-container-id-1 div.sk-serial {display: flex;flex-direction: column;align-items: center;background-color: white;padding-right: 0.2em;padding-left: 0.2em;position: relative;}#sk-container-id-1 div.sk-item {position: relative;z-index: 1;}#sk-container-id-1 div.sk-parallel {display: flex;align-items: stretch;justify-content: center;background-color: white;position: relative;}#sk-container-id-1 div.sk-item::before, #sk-container-id-1 div.sk-parallel-item::before {content: \"\";position: absolute;border-left: 1px solid gray;box-sizing: border-box;top: 0;bottom: 0;left: 50%;z-index: -1;}#sk-container-id-1 div.sk-parallel-item {display: flex;flex-direction: column;z-index: 1;position: relative;background-color: white;}#sk-container-id-1 div.sk-parallel-item:first-child::after {align-self: flex-end;width: 50%;}#sk-container-id-1 div.sk-parallel-item:last-child::after {align-self: flex-start;width: 50%;}#sk-container-id-1 div.sk-parallel-item:only-child::after {width: 0;}#sk-container-id-1 div.sk-dashed-wrapped {border: 1px dashed gray;margin: 0 0.4em 0.5em 0.4em;box-sizing: border-box;padding-bottom: 0.4em;background-color: white;}#sk-container-id-1 div.sk-label label {font-family: monospace;font-weight: bold;display: inline-block;line-height: 1.2em;}#sk-container-id-1 div.sk-label-container {text-align: center;}#sk-container-id-1 div.sk-container {/* jupyter's `normalize.less` sets `[hidden] { display: none; }` but bootstrap.min.css set `[hidden] { display: none !important; }` so we also need the `!important` here to be able to override the default hidden behavior on the sphinx rendered scikit-learn.org. See: https://github.com/scikit-learn/scikit-learn/issues/21755 */display: inline-block !important;position: relative;}#sk-container-id-1 div.sk-text-repr-fallback {display: none;}</style><div id=\"sk-container-id-1\" class=\"sk-top-container\"><div class=\"sk-text-repr-fallback\"><pre>RandomForestClassifier(max_depth=20, n_jobs=-1, random_state=42)</pre><b>In a Jupyter environment, please rerun this cell to show the HTML representation or trust the notebook. <br />On GitHub, the HTML representation is unable to render, please try loading this page with nbviewer.org.</b></div><div class=\"sk-container\" hidden><div class=\"sk-item\"><div class=\"sk-estimator sk-toggleable\"><input class=\"sk-toggleable__control sk-hidden--visually\" id=\"sk-estimator-id-1\" type=\"checkbox\" checked><label for=\"sk-estimator-id-1\" class=\"sk-toggleable__label sk-toggleable__label-arrow\">RandomForestClassifier</label><div class=\"sk-toggleable__content\"><pre>RandomForestClassifier(max_depth=20, n_jobs=-1, random_state=42)</pre></div></div></div></div></div>"
      ],
      "text/plain": [
       "RandomForestClassifier(max_depth=20, n_jobs=-1, random_state=42)"
      ]
     },
     "execution_count": 6,
     "metadata": {},
     "output_type": "execute_result"
    }
   ],
   "source": [
    "print(\"## 3. 상위 10개 특성만 사용한 모델 학습 및 평가 ##\")\n",
    "X_train_top10 = X_train[top_10_feature_names]\n",
    "X_test_top10 = X_test[top_10_feature_names]\n",
    "\n",
    "grid_search_top10 = GridSearchCV(\n",
    "    estimator=RandomForestClassifier(random_state=42, n_jobs=-1),\n",
    "    param_grid=param_grid,\n",
    "    scoring='f1',\n",
    "    cv=3\n",
    ")\n",
    "grid_search_top10.fit(X_train_top10, y_train)\n",
    "\n",
    "print(\"최적의 하이퍼파라미터 (상위 10개 특성):\", grid_search_top10.best_params_)\n",
    "model_top10 = grid_search_top10.best_estimator_\n",
    "\n",
    "y_pred_top10 = model_top10.predict(X_test_top10)\n",
    "accuracy_top10 = accuracy_score(y_test, y_pred_top10)\n",
    "recall_top10 = recall_score(y_test, y_pred_top10)\n",
    "f1_top10 = f1_score(y_test, y_pred_top10)\n",
    "\n",
    "print(f\"모델 정확도: {accuracy_top10:.4f}\")\n",
    "print(f\"재현율 (Recall): {recall_top10:.4f}\")\n",
    "print(f\"F1-Score: {f1_top10:.4f}\")\n",
    "print(\"성능 리포트:\")\n",
    "print(classification_report(y_test, y_pred_top10, target_names=['BENIGN (0)', 'ATTACK (1)']))\n",
    "print(\"-\" * 50)"
   ]
  },
  {
   "cell_type": "code",
   "execution_count": null,
   "id": "10a7ccba",
   "metadata": {},
   "outputs": [],
   "source": [
    "print(\"## 4. 상위 6개 특성만 사용한 모델 학습 및 평가 ##\")\n",
    "X_train_top6 = X_train[top_10_feature_names[:6]]\n",
    "X_test_top6 = X_test[top_10_feature_names[:6]]\n",
    "\n",
    "grid_search_top6 = GridSearchCV(\n",
    "    estimator=RandomForestClassifier(random_state=42, n_jobs=-1),\n",
    "    param_grid=param_grid,\n",
    "    scoring='f1',\n",
    "    cv=3\n",
    ")\n",
    "grid_search_top6.fit(X_train_top6, y_train)\n",
    "\n",
    "print(\"최적의 하이퍼파라미터 (상위 6개 특성):\", grid_search_top6.best_params_)\n",
    "model_top6 = grid_search_top6.best_estimator_\n",
    "\n",
    "y_pred_top6 = model_top6.predict(X_test_top6)\n",
    "accuracy_top6 = accuracy_score(y_test, y_pred_top6)\n",
    "recall_top6 = recall_score(y_test, y_pred_top6)\n",
    "f1_top6 = f1_score(y_test, y_pred_top6)\n",
    "\n",
    "print(f\"모델 정확도: {accuracy_top6:.4f}\")\n",
    "print(f\"재현율 (Recall): {recall_top6:.4f}\")\n",
    "print(f\"F1-Score: {f1_top6:.4f}\")\n",
    "print(\"성능 리포트:\")\n",
    "print(classification_report(y_test, y_pred_top6, target_names=['BENIGN (0)', 'ATTACK (1)']))\n",
    "print(\"-\" * 50)"
   ]
  },
  {
   "cell_type": "code",
   "execution_count": null,
   "id": "6a5a7890",
   "metadata": {},
   "outputs": [
    {
     "name": "stdout",
     "output_type": "stream",
     "text": [
      "모델 정확도: 0.9967\n",
      "재현율 (Recall): 0.9996\n",
      "F1-Score: 0.9955\n",
      "성능 리포트:\n",
      "              precision    recall  f1-score   support\n",
      "\n",
      "  BENIGN (0)       1.00      1.00      1.00     66005\n",
      "  ATTACK (1)       0.99      1.00      1.00     37901\n",
      "\n",
      "    accuracy                           1.00    103906\n",
      "   macro avg       1.00      1.00      1.00    103906\n",
      "weighted avg       1.00      1.00      1.00    103906\n",
      "\n",
      "--------------------------------------------------\n",
      "## 4. 최종 성능 비교 ##\n",
      "[전체 특성 사용 모델]\n",
      " - 정확도 (Accuracy): 0.9995\n",
      " - 재현율 (Recall): 0.9996\n",
      " - F1-Score: 0.9994\n",
      "[상위 10개 특성 사용 모델]\n",
      " - 정확도 (Accuracy): 0.9967\n",
      " - 재현율 (Recall): 0.9996\n",
      " - F1-Score: 0.9955\n"
     ]
    }
   ],
   "source": [
    "print(\"## 5. 최종 성능 비교 ##\")\n",
    "print(\"[전체 특성 사용 모델]\")\n",
    "print(f\" - 하이퍼파라미터: {grid_search.best_params_}\")\n",
    "print(f\" - 정확도 (Accuracy): {accuracy_full:.4f}\")\n",
    "print(f\" - 재현율 (Recall): {recall_full:.4f}\")\n",
    "print(f\" - F1-Score: {f1_full:.4f}\")\n",
    "\n",
    "print(\"[상위 10개 특성 사용 모델]\")\n",
    "print(f\" - 하이퍼파라미터: {grid_search_top10.best_params_}\")\n",
    "print(f\" - 정확도 (Accuracy): {accuracy_top10:.4f}\")\n",
    "print(f\" - 재현율 (Recall): {recall_top10:.4f}\")\n",
    "print(f\" - F1-Score: {f1_top10:.4f}\")\n",
    "\n",
    "print(\"[상위 6개 특성 사용 모델]\")\n",
    "print(f\" - 하이퍼파라미터: {grid_search_top6.best_params_}\")\n",
    "print(f\" - 정확도 (Accuracy): {accuracy_top6:.4f}\")\n",
    "print(f\" - 재현율 (Recall): {recall_top6:.4f}\")\n",
    "print(f\" - F1-Score: {f1_top6:.4f}\")"
   ]
  }
 ],
 "metadata": {
  "kernelspec": {
   "display_name": "Python 3",
   "language": "python",
   "name": "python3"
  },
  "language_info": {
   "codemirror_mode": {
    "name": "ipython",
    "version": 3
   },
   "file_extension": ".py",
   "mimetype": "text/x-python",
   "name": "python",
   "nbconvert_exporter": "python",
   "pygments_lexer": "ipython3",
   "version": "3.11.5"
  }
 },
 "nbformat": 4,
 "nbformat_minor": 5
}
