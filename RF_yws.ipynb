{
 "cells": [
  {
   "cell_type": "code",
   "execution_count": null,
   "id": "42096c77",
   "metadata": {},
   "outputs": [],
   "source": [
    "import pandas as pd\n",
    "import numpy as np\n",
    "from sklearn.model_selection import train_test_split, GridSearchCV, StratifiedKFold\n",
    "from sklearn.ensemble import RandomForestClassifier\n",
    "from sklearn.feature_selection import RFECV\n",
    "\n",
    "from sklearn.metrics import classification_report, accuracy_score, recall_score, f1_score\n",
    "\n",
    "train_dataset_path = 'dataset/Wednesday-workingHours.pcap_ISCX.csv'\n",
    "test_dataset_path = 'dataset/Friday-WorkingHours-Afternoon-DDos.pcap_ISCX.csv'\n",
    "\n",
    "train_data = pd.read_csv(train_dataset_path)\n",
    "test_data = pd.read_csv(test_dataset_path)"
   ]
  },
  {
   "cell_type": "code",
   "execution_count": null,
   "id": "e161d23f",
   "metadata": {},
   "outputs": [
    {
     "name": "stdout",
     "output_type": "stream",
     "text": [
      "Train 데이터 크기: (588797, 78)\n",
      "Test 데이터 크기: (103906, 78)\n",
      "--------------------------------------------------\n"
     ]
    }
   ],
   "source": [
    "def preprocess_data(data):\n",
    "    df = data.copy()\n",
    "    df.columns = df.columns.str.strip().str.replace('[ /]', '_', regex=True)\n",
    "    df.replace([np.inf, -np.inf], np.nan, inplace=True)\n",
    "    df.fillna(0, inplace=True)\n",
    "\n",
    "    X = df.drop('Label', axis=1)\n",
    "    y = np.where(df['Label'] == 'BENIGN', 0, 1)\n",
    "    return X, y\n",
    "\n",
    "X_train, y_train = preprocess_data(train_data)\n",
    "X_test, y_test = preprocess_data(test_data)\n",
    "\n",
    "print(f\"Train 데이터 크기: {X_train.shape}\")\n",
    "print(f\"Test 데이터 크기: {X_test.shape}\")\n",
    "print(\"-\" * 50)"
   ]
  },
  {
   "cell_type": "code",
   "execution_count": 15,
   "id": "b65f6773",
   "metadata": {},
   "outputs": [
    {
     "name": "stdout",
     "output_type": "stream",
     "text": [
      "## 1. 전체 Feature를 사용한 모델 학습 및 평가 ##\n",
      "최적의 하이퍼파라미터: {'max_depth': 20, 'min_samples_leaf': 1, 'n_estimators': 100}\n",
      "모델 정확도: 0.9995\n",
      "재현율 (Recall): 0.9996\n",
      "F1-Score: 0.9994\n",
      "성능 리포트:\n",
      "              precision    recall  f1-score   support\n",
      "\n",
      "  BENIGN (0)       1.00      1.00      1.00     66005\n",
      "  ATTACK (1)       1.00      1.00      1.00     37901\n",
      "\n",
      "    accuracy                           1.00    103906\n",
      "   macro avg       1.00      1.00      1.00    103906\n",
      "weighted avg       1.00      1.00      1.00    103906\n",
      "\n",
      "--------------------------------------------------\n"
     ]
    }
   ],
   "source": [
    "print(\"## 1. 전체 Feature를 사용한 모델 학습 및 평가 ##\")\n",
    "\n",
    "param_grid = {\n",
    "    'n_estimators': [50, 100],\n",
    "    'max_depth': [10, 20, None],\n",
    "    'min_samples_leaf': [1, 3, 5]\n",
    "}\n",
    "\n",
    "grid_search = GridSearchCV(\n",
    "    estimator=RandomForestClassifier(random_state=42, n_jobs=-1),\n",
    "    param_grid=param_grid,\n",
    "    scoring='f1',\n",
    "    cv=3\n",
    ")\n",
    "grid_search.fit(X_train, y_train)\n",
    "\n",
    "print(\"최적의 하이퍼파라미터:\", grid_search.best_params_)\n",
    "model_full = grid_search.best_estimator_\n",
    "\n",
    "y_pred_full = model_full.predict(X_test)\n",
    "accuracy_full = accuracy_score(y_test, y_pred_full)\n",
    "recall_full = recall_score(y_test, y_pred_full)\n",
    "f1_full = f1_score(y_test, y_pred_full)\n",
    "\n",
    "print(f\"모델 정확도: {accuracy_full:.4f}\")\n",
    "print(f\"재현율 (Recall): {recall_full:.4f}\")\n",
    "print(f\"F1-Score: {f1_full:.4f}\")\n",
    "print(\"성능 리포트:\")\n",
    "print(classification_report(y_test, y_pred_full, target_names=['BENIGN (0)', 'ATTACK (1)']))\n",
    "print(\"-\" * 50)"
   ]
  },
  {
   "cell_type": "code",
   "execution_count": 16,
   "id": "e3ad826a",
   "metadata": {},
   "outputs": [
    {
     "name": "stdout",
     "output_type": "stream",
     "text": [
      "## 2. Gini 중요도 기반 상위 10개 특성 추출 ##\n",
      "상위 10개 특성:\n",
      "                   feature  importance\n",
      "54    Avg_Bwd_Segment_Size    0.073048\n",
      "39       Max_Packet_Length    0.066022\n",
      "10   Bwd_Packet_Length_Max    0.063546\n",
      "41       Packet_Length_Std    0.055580\n",
      "52     Average_Packet_Size    0.055403\n",
      "0         Destination_Port    0.052953\n",
      "37           Bwd_Packets_s    0.048549\n",
      "13   Bwd_Packet_Length_Std    0.044506\n",
      "40      Packet_Length_Mean    0.044022\n",
      "42  Packet_Length_Variance    0.042012\n",
      "--------------------------------------------------\n"
     ]
    }
   ],
   "source": [
    "print(\"## 2. Gini 중요도 기반 상위 10개 특성 추출 ##\")\n",
    "importances = model_full.feature_importances_\n",
    "feature_importances = pd.DataFrame({'feature': X.columns, 'importance': importances})\n",
    "feature_importances = feature_importances.sort_values('importance', ascending=False)\n",
    "top_10_feature_names = feature_importances.head(10)['feature'].tolist()\n",
    "\n",
    "print(\"상위 10개 특성:\")\n",
    "print(feature_importances.head(10))\n",
    "print(\"-\" * 50)"
   ]
  },
  {
   "cell_type": "code",
   "execution_count": 17,
   "id": "10a7ccba",
   "metadata": {},
   "outputs": [
    {
     "name": "stdout",
     "output_type": "stream",
     "text": [
      "## 3. 상위 6개 특성만 사용한 모델 학습 및 평가 ##\n",
      "최적의 하이퍼파라미터 (상위 6개 특성): {'max_depth': 20, 'min_samples_leaf': 1, 'n_estimators': 100}\n",
      "모델 정확도: 0.9861\n",
      "재현율 (Recall): 0.9993\n",
      "F1-Score: 0.9813\n",
      "성능 리포트:\n",
      "              precision    recall  f1-score   support\n",
      "\n",
      "  BENIGN (0)       1.00      0.98      0.99     66005\n",
      "  ATTACK (1)       0.96      1.00      0.98     37901\n",
      "\n",
      "    accuracy                           0.99    103906\n",
      "   macro avg       0.98      0.99      0.99    103906\n",
      "weighted avg       0.99      0.99      0.99    103906\n",
      "\n",
      "--------------------------------------------------\n"
     ]
    }
   ],
   "source": [
    "print(\"## 3. 상위 6개 특성만 사용한 모델 학습 및 평가 ##\")\n",
    "X_train_top6 = X_train[top_10_feature_names[:6]]\n",
    "X_test_top6 = X_test[top_10_feature_names[:6]]\n",
    "\n",
    "grid_search_top6 = GridSearchCV(\n",
    "    estimator=RandomForestClassifier(random_state=42, n_jobs=-1),\n",
    "    param_grid=param_grid,\n",
    "    scoring='f1',\n",
    "    cv=3\n",
    ")\n",
    "grid_search_top6.fit(X_train_top6, y_train)\n",
    "\n",
    "print(\"최적의 하이퍼파라미터 (상위 6개 특성):\", grid_search_top6.best_params_)\n",
    "model_top6 = grid_search_top6.best_estimator_\n",
    "\n",
    "y_pred_top6 = model_top6.predict(X_test_top6)\n",
    "accuracy_top6 = accuracy_score(y_test, y_pred_top6)\n",
    "recall_top6 = recall_score(y_test, y_pred_top6)\n",
    "f1_top6 = f1_score(y_test, y_pred_top6)\n",
    "\n",
    "print(f\"모델 정확도: {accuracy_top6:.4f}\")\n",
    "print(f\"재현율 (Recall): {recall_top6:.4f}\")\n",
    "print(f\"F1-Score: {f1_top6:.4f}\")\n",
    "print(\"성능 리포트:\")\n",
    "print(classification_report(y_test, y_pred_top6, target_names=['BENIGN (0)', 'ATTACK (1)']))\n",
    "\n",
    "print(\"-\" * 50)"
   ]
  },
  {
   "cell_type": "code",
   "execution_count": 19,
   "id": "358541a7",
   "metadata": {},
   "outputs": [
    {
     "name": "stdout",
     "output_type": "stream",
     "text": [
      "## 4. RFECV 기반 최적의 특성 개수 및 목록 추출 ##\n",
      "Fitting estimator with 78 features.\n",
      "Fitting estimator with 76 features.\n",
      "Fitting estimator with 74 features.\n",
      "Fitting estimator with 72 features.\n",
      "Fitting estimator with 70 features.\n",
      "Fitting estimator with 68 features.\n",
      "Fitting estimator with 66 features.\n",
      "Fitting estimator with 64 features.\n",
      "Fitting estimator with 62 features.\n",
      "Fitting estimator with 60 features.\n",
      "Fitting estimator with 58 features.\n",
      "Fitting estimator with 56 features.\n",
      "Fitting estimator with 54 features.\n",
      "Fitting estimator with 52 features.\n",
      "Fitting estimator with 50 features.\n",
      "Fitting estimator with 48 features.\n",
      "Fitting estimator with 46 features.\n",
      "Fitting estimator with 44 features.\n",
      "Fitting estimator with 42 features.\n",
      "Fitting estimator with 40 features.\n",
      "Fitting estimator with 38 features.\n",
      "Fitting estimator with 36 features.\n",
      "Fitting estimator with 34 features.\n",
      "Fitting estimator with 32 features.\n",
      "Fitting estimator with 30 features.\n",
      "Fitting estimator with 28 features.\n",
      "Fitting estimator with 26 features.\n",
      "Fitting estimator with 24 features.\n"
     ]
    },
    {
     "data": {
      "text/html": [
       "<style>#sk-container-id-1 {color: black;}#sk-container-id-1 pre{padding: 0;}#sk-container-id-1 div.sk-toggleable {background-color: white;}#sk-container-id-1 label.sk-toggleable__label {cursor: pointer;display: block;width: 100%;margin-bottom: 0;padding: 0.3em;box-sizing: border-box;text-align: center;}#sk-container-id-1 label.sk-toggleable__label-arrow:before {content: \"▸\";float: left;margin-right: 0.25em;color: #696969;}#sk-container-id-1 label.sk-toggleable__label-arrow:hover:before {color: black;}#sk-container-id-1 div.sk-estimator:hover label.sk-toggleable__label-arrow:before {color: black;}#sk-container-id-1 div.sk-toggleable__content {max-height: 0;max-width: 0;overflow: hidden;text-align: left;background-color: #f0f8ff;}#sk-container-id-1 div.sk-toggleable__content pre {margin: 0.2em;color: black;border-radius: 0.25em;background-color: #f0f8ff;}#sk-container-id-1 input.sk-toggleable__control:checked~div.sk-toggleable__content {max-height: 200px;max-width: 100%;overflow: auto;}#sk-container-id-1 input.sk-toggleable__control:checked~label.sk-toggleable__label-arrow:before {content: \"▾\";}#sk-container-id-1 div.sk-estimator input.sk-toggleable__control:checked~label.sk-toggleable__label {background-color: #d4ebff;}#sk-container-id-1 div.sk-label input.sk-toggleable__control:checked~label.sk-toggleable__label {background-color: #d4ebff;}#sk-container-id-1 input.sk-hidden--visually {border: 0;clip: rect(1px 1px 1px 1px);clip: rect(1px, 1px, 1px, 1px);height: 1px;margin: -1px;overflow: hidden;padding: 0;position: absolute;width: 1px;}#sk-container-id-1 div.sk-estimator {font-family: monospace;background-color: #f0f8ff;border: 1px dotted black;border-radius: 0.25em;box-sizing: border-box;margin-bottom: 0.5em;}#sk-container-id-1 div.sk-estimator:hover {background-color: #d4ebff;}#sk-container-id-1 div.sk-parallel-item::after {content: \"\";width: 100%;border-bottom: 1px solid gray;flex-grow: 1;}#sk-container-id-1 div.sk-label:hover label.sk-toggleable__label {background-color: #d4ebff;}#sk-container-id-1 div.sk-serial::before {content: \"\";position: absolute;border-left: 1px solid gray;box-sizing: border-box;top: 0;bottom: 0;left: 50%;z-index: 0;}#sk-container-id-1 div.sk-serial {display: flex;flex-direction: column;align-items: center;background-color: white;padding-right: 0.2em;padding-left: 0.2em;position: relative;}#sk-container-id-1 div.sk-item {position: relative;z-index: 1;}#sk-container-id-1 div.sk-parallel {display: flex;align-items: stretch;justify-content: center;background-color: white;position: relative;}#sk-container-id-1 div.sk-item::before, #sk-container-id-1 div.sk-parallel-item::before {content: \"\";position: absolute;border-left: 1px solid gray;box-sizing: border-box;top: 0;bottom: 0;left: 50%;z-index: -1;}#sk-container-id-1 div.sk-parallel-item {display: flex;flex-direction: column;z-index: 1;position: relative;background-color: white;}#sk-container-id-1 div.sk-parallel-item:first-child::after {align-self: flex-end;width: 50%;}#sk-container-id-1 div.sk-parallel-item:last-child::after {align-self: flex-start;width: 50%;}#sk-container-id-1 div.sk-parallel-item:only-child::after {width: 0;}#sk-container-id-1 div.sk-dashed-wrapped {border: 1px dashed gray;margin: 0 0.4em 0.5em 0.4em;box-sizing: border-box;padding-bottom: 0.4em;background-color: white;}#sk-container-id-1 div.sk-label label {font-family: monospace;font-weight: bold;display: inline-block;line-height: 1.2em;}#sk-container-id-1 div.sk-label-container {text-align: center;}#sk-container-id-1 div.sk-container {/* jupyter's `normalize.less` sets `[hidden] { display: none; }` but bootstrap.min.css set `[hidden] { display: none !important; }` so we also need the `!important` here to be able to override the default hidden behavior on the sphinx rendered scikit-learn.org. See: https://github.com/scikit-learn/scikit-learn/issues/21755 */display: inline-block !important;position: relative;}#sk-container-id-1 div.sk-text-repr-fallback {display: none;}</style><div id=\"sk-container-id-1\" class=\"sk-top-container\"><div class=\"sk-text-repr-fallback\"><pre>RFECV(cv=StratifiedKFold(n_splits=3, random_state=None, shuffle=False),\n",
       "      estimator=RandomForestClassifier(max_depth=20, n_jobs=-1,\n",
       "                                       random_state=42),\n",
       "      n_jobs=-1, scoring=&#x27;f1&#x27;, step=2, verbose=1)</pre><b>In a Jupyter environment, please rerun this cell to show the HTML representation or trust the notebook. <br />On GitHub, the HTML representation is unable to render, please try loading this page with nbviewer.org.</b></div><div class=\"sk-container\" hidden><div class=\"sk-item sk-dashed-wrapped\"><div class=\"sk-label-container\"><div class=\"sk-label sk-toggleable\"><input class=\"sk-toggleable__control sk-hidden--visually\" id=\"sk-estimator-id-1\" type=\"checkbox\" ><label for=\"sk-estimator-id-1\" class=\"sk-toggleable__label sk-toggleable__label-arrow\">RFECV</label><div class=\"sk-toggleable__content\"><pre>RFECV(cv=StratifiedKFold(n_splits=3, random_state=None, shuffle=False),\n",
       "      estimator=RandomForestClassifier(max_depth=20, n_jobs=-1,\n",
       "                                       random_state=42),\n",
       "      n_jobs=-1, scoring=&#x27;f1&#x27;, step=2, verbose=1)</pre></div></div></div><div class=\"sk-parallel\"><div class=\"sk-parallel-item\"><div class=\"sk-item\"><div class=\"sk-label-container\"><div class=\"sk-label sk-toggleable\"><input class=\"sk-toggleable__control sk-hidden--visually\" id=\"sk-estimator-id-2\" type=\"checkbox\" ><label for=\"sk-estimator-id-2\" class=\"sk-toggleable__label sk-toggleable__label-arrow\">estimator: RandomForestClassifier</label><div class=\"sk-toggleable__content\"><pre>RandomForestClassifier(max_depth=20, n_jobs=-1, random_state=42)</pre></div></div></div><div class=\"sk-serial\"><div class=\"sk-item\"><div class=\"sk-estimator sk-toggleable\"><input class=\"sk-toggleable__control sk-hidden--visually\" id=\"sk-estimator-id-3\" type=\"checkbox\" ><label for=\"sk-estimator-id-3\" class=\"sk-toggleable__label sk-toggleable__label-arrow\">RandomForestClassifier</label><div class=\"sk-toggleable__content\"><pre>RandomForestClassifier(max_depth=20, n_jobs=-1, random_state=42)</pre></div></div></div></div></div></div></div></div></div></div>"
      ],
      "text/plain": [
       "RFECV(cv=StratifiedKFold(n_splits=3, random_state=None, shuffle=False),\n",
       "      estimator=RandomForestClassifier(max_depth=20, n_jobs=-1,\n",
       "                                       random_state=42),\n",
       "      n_jobs=-1, scoring='f1', step=2, verbose=1)"
      ]
     },
     "execution_count": 19,
     "metadata": {},
     "output_type": "execute_result"
    }
   ],
   "source": [
    "\n",
    "print(\"## 4. RFECV 기반 최적의 특성 개수 및 목록 추출 ##\")\n",
    "\n",
    "cv_strategy = StratifiedKFold(n_splits=3)\n",
    "\n",
    "rfecv = RFECV(\n",
    "    estimator=model_full,\n",
    "    step=2,\n",
    "    cv=cv_strategy,\n",
    "    scoring='f1',\n",
    "    n_jobs=-1,\n",
    "    verbose=1\n",
    ")\n",
    "\n",
    "rfecv.fit(X_train, y_train)\n"
   ]
  },
  {
   "cell_type": "code",
   "execution_count": 20,
   "id": "ac1dd108",
   "metadata": {},
   "outputs": [
    {
     "name": "stdout",
     "output_type": "stream",
     "text": [
      "\n",
      "최적의 특성 개수: 22\n",
      "선택된 특성 목록: ['Destination_Port', 'Total_Backward_Packets', 'Fwd_Packet_Length_Mean', 'Bwd_Packet_Length_Max', 'Bwd_Packet_Length_Mean', 'Bwd_Packet_Length_Std', 'Flow_Bytes_s', 'Flow_IAT_Mean', 'Fwd_IAT_Max', 'Fwd_Header_Length', 'Bwd_Header_Length', 'Bwd_Packets_s', 'Max_Packet_Length', 'Packet_Length_Mean', 'Packet_Length_Std', 'Packet_Length_Variance', 'Average_Packet_Size', 'Avg_Fwd_Segment_Size', 'Avg_Bwd_Segment_Size', 'Subflow_Bwd_Packets', 'Init_Win_bytes_forward', 'Init_Win_bytes_backward']\n",
      "--------------------------------------------------\n"
     ]
    }
   ],
   "source": [
    "best_features = X_train.columns[rfecv.support_]\n",
    "print(f\"\\n최적의 특성 개수: {rfecv.n_features_}\")\n",
    "print(\"선택된 특성 목록:\", best_features.tolist())\n",
    "print(\"-\" * 50)"
   ]
  },
  {
   "cell_type": "code",
   "execution_count": 48,
   "id": "c93e5c39",
   "metadata": {},
   "outputs": [
    {
     "name": "stdout",
     "output_type": "stream",
     "text": [
      "## 5. 최적의 특성을 사용한 모델 학습 및 평가 ##\n",
      "모델 정확도: 0.9998\n",
      "재현율 (Recall): 0.9998\n",
      "F1-Score: 0.9997\n",
      "성능 리포트:\n",
      "              precision    recall  f1-score   support\n",
      "\n",
      "  BENIGN (0)       1.00      1.00      1.00     66005\n",
      "  ATTACK (1)       1.00      1.00      1.00     37901\n",
      "\n",
      "    accuracy                           1.00    103906\n",
      "   macro avg       1.00      1.00      1.00    103906\n",
      "weighted avg       1.00      1.00      1.00    103906\n",
      "\n",
      "--------------------------------------------------\n"
     ]
    }
   ],
   "source": [
    "print(\"## 5. 최적의 특성을 사용한 모델 학습 및 평가 ##\")\n",
    "\n",
    "X_train_best = X_train[best_features]\n",
    "X_test_best = X_test[best_features]\n",
    "\n",
    "model_best = RandomForestClassifier(**grid_search.best_params_, random_state=42, n_jobs=-1)\n",
    "model_best.fit(X_train_best, y_train)\n",
    "\n",
    "y_pred_best = model_best.predict(X_test_best)\n",
    "accuracy_best = accuracy_score(y_test, y_pred_best)\n",
    "recall_best = recall_score(y_test, y_pred_best)\n",
    "f1_best = f1_score(y_test, y_pred_best)\n",
    "\n",
    "print(f\"모델 정확도: {accuracy_best:.4f}\")\n",
    "print(f\"재현율 (Recall): {recall_best:.4f}\")\n",
    "print(f\"F1-Score: {f1_best:.4f}\")\n",
    "print(\"성능 리포트:\")\n",
    "print(classification_report(y_test, y_pred_best, target_names=['BENIGN (0)', 'ATTACK (1)']))\n",
    "print(\"-\" * 50)"
   ]
  },
  {
   "cell_type": "code",
   "execution_count": 49,
   "id": "3baf6221",
   "metadata": {},
   "outputs": [
    {
     "name": "stdout",
     "output_type": "stream",
     "text": [
      "## 6. 최적의 하이퍼파라미터로 재학습 및 시간 측정 ##\n",
      "전체 특성으로 재학습 시간: 21.6823초\n",
      "상위 6개 특성으로 재학습 시간: 6.9206초\n",
      "최적의 특성으로 재학습 시간: 15.0687초\n",
      "--------------------------------------------------\n"
     ]
    }
   ],
   "source": [
    "print(\"## 6. 최적의 하이퍼파라미터로 재학습 및 시간 측정 ##\")\n",
    "import time\n",
    "\n",
    "start_time = time.time()\n",
    "best_full = grid_search.best_estimator_\n",
    "best_full.fit(X_train, y_train)\n",
    "end_time = time.time()\n",
    "print(f\"전체 특성으로 재학습 시간: {end_time - start_time:.4f}초\")\n",
    "\n",
    "start_time_top6 = time.time()\n",
    "best_top6 = grid_search_top6.best_estimator_\n",
    "best_top6.fit(X_train_top6, y_train)\n",
    "end_time_top6 = time.time()\n",
    "print(f\"상위 6개 특성으로 재학습 시간: {end_time_top6 - start_time_top6:.4f}초\")\n",
    "\n",
    "start_time_best = time.time()\n",
    "best_model = model_best\n",
    "best_model.fit(X_train_best, y_train)\n",
    "end_time_best = time.time()\n",
    "print(f\"최적의 특성으로 재학습 시간: {end_time_best - start_time_best:.4f}초\")\n",
    "\n",
    "print(\"-\" * 50)"
   ]
  },
  {
   "cell_type": "code",
   "execution_count": 50,
   "id": "6a5a7890",
   "metadata": {},
   "outputs": [
    {
     "name": "stdout",
     "output_type": "stream",
     "text": [
      "## 7. 최종 성능 비교 ##\n",
      "[전체 특성 사용 모델]\n",
      " - 하이퍼파라미터: {'max_depth': 20, 'min_samples_leaf': 1, 'n_estimators': 100}\n",
      " - 정확도 (Accuracy): 0.9995\n",
      " - 재현율 (Recall): 0.9996\n",
      " - F1-Score: 0.9994\n",
      " - 학습 시간: 21.6823초\n",
      "[상위 6개 특성 사용 모델]\n",
      " - 하이퍼파라미터: {'max_depth': 20, 'min_samples_leaf': 1, 'n_estimators': 100}\n",
      " - 정확도 (Accuracy): 0.9861\n",
      " - 재현율 (Recall): 0.9993\n",
      " - F1-Score: 0.9813\n",
      " - 학습 시간: 6.9206초\n",
      "[최적의 특성 사용 모델]\n",
      " - 하이퍼파라미터: {'max_depth': 20, 'min_samples_leaf': 1, 'n_estimators': 100}\n",
      " - 정확도 (Accuracy): 0.9998\n",
      " - 재현율 (Recall): 0.9998\n",
      " - F1-Score: 0.9997\n",
      " - 학습 시간: 15.0687초\n",
      "--------------------------------------------------\n"
     ]
    }
   ],
   "source": [
    "print(\"## 7. 최종 성능 비교 ##\")\n",
    "print(\"[전체 특성 사용 모델]\")\n",
    "print(f\" - 하이퍼파라미터: {grid_search.best_params_}\")\n",
    "print(f\" - 정확도 (Accuracy): {accuracy_full:.4f}\")\n",
    "print(f\" - 재현율 (Recall): {recall_full:.4f}\")\n",
    "print(f\" - F1-Score: {f1_full:.4f}\")\n",
    "print(f\" - 학습 시간: {end_time - start_time:.4f}초\")\n",
    "\n",
    "print(\"[상위 6개 특성 사용 모델]\")\n",
    "print(f\" - 하이퍼파라미터: {grid_search_top6.best_params_}\")\n",
    "print(f\" - 정확도 (Accuracy): {accuracy_top6:.4f}\")\n",
    "print(f\" - 재현율 (Recall): {recall_top6:.4f}\")\n",
    "print(f\" - F1-Score: {f1_top6:.4f}\")\n",
    "print(f\" - 학습 시간: {end_time_top6 - start_time_top6:.4f}초\")\n",
    "\n",
    "print(\"[최적의 특성 사용 모델]\")\n",
    "print(f\" - 하이퍼파라미터: {grid_search.best_params_}\")\n",
    "print(f\" - 정확도 (Accuracy): {accuracy_best:.4f}\")\n",
    "print(f\" - 재현율 (Recall): {recall_best:.4f}\")\n",
    "print(f\" - F1-Score: {f1_best:.4f}\")\n",
    "print(f\" - 학습 시간: {end_time_best - start_time_best:.4f}초\")\n",
    "\n",
    "print(\"-\" * 50)"
   ]
  },
  {
   "cell_type": "code",
   "execution_count": 51,
   "id": "e6819f47",
   "metadata": {},
   "outputs": [
    {
     "name": "stdout",
     "output_type": "stream",
     "text": [
      "## 8. ROC curve 및 AUC ##\n"
     ]
    },
    {
     "data": {
      "text/plain": [
       "Text(0.5, 1.0, 'ROC Curve')"
      ]
     },
     "execution_count": 51,
     "metadata": {},
     "output_type": "execute_result"
    },
    {
     "data": {
      "image/png": "[encoded data removed]",
      "text/plain": [
       "<Figure size 720x432 with 1 Axes>"
      ]
     },
     "metadata": {
      "needs_background": "light"
     },
     "output_type": "display_data"
    }
   ],
   "source": [
    "print(\"## 8. ROC curve 및 AUC ##\")\n",
    "from matplotlib import pyplot as plt\n",
    "from sklearn.metrics import roc_curve, auc\n",
    "\n",
    "y_scores_full = model_full.predict_proba(X_test)[:, 1]\n",
    "y_scores_top6 = model_top6.predict_proba(X_test_top6)[:, 1]\n",
    "y_scores_best = best_model.predict_proba(X_test_best)[:, 1]\n",
    "\n",
    "fpr_full, tpr_full, _ = roc_curve(y_test, y_scores_full)\n",
    "fpr_top6, tpr_top6, _ = roc_curve(y_test, y_scores_top6)\n",
    "fpr_best, tpr_best, _ = roc_curve(y_test, y_scores_best)\n",
    "roc_auc_full = auc(fpr_full, tpr_full)\n",
    "roc_auc_top6 = auc(fpr_top6, tpr_top6)\n",
    "roc_auc_best = auc(fpr_best, tpr_best)\n",
    "\n",
    "plt.figure(figsize=(10, 6))\n",
    "plt.plot(fpr_full, tpr_full, color='blue', label=f'전체 특성 (AUC = {roc_auc_full:.2f})')\n",
    "plt.plot(fpr_top6, tpr_top6, color='orange', label=f'상위 6개 특성 (AUC = {roc_auc_top6:.2f})')\n",
    "plt.plot(fpr_best, tpr_best, color='green', label=f'최적의 특성 (AUC = {roc_auc_best:.2f})')\n",
    "plt.xlabel('False Positive Rate')\n",
    "plt.ylabel('True Positive Rate')\n",
    "plt.plot([0, 1], [0, 1], color='gray', linestyle='--')\n",
    "plt.title('ROC Curve')"
   ]
  },
  {
   "cell_type": "code",
   "execution_count": 52,
   "id": "ece480d1",
   "metadata": {},
   "outputs": [
    {
     "name": "stdout",
     "output_type": "stream",
     "text": [
      "## 전체 특성 모델 저장\n",
      "## 상위 6개 특성 모델 저장\n",
      "## 최적의 특성 모델 저장\n",
      "저장이 완료되었습니다.\n"
     ]
    }
   ],
   "source": [
    "## 모델 저장\n",
    "import joblib\n",
    "import os\n",
    "\n",
    "print(\"## 전체 특성 모델 저장\")\n",
    "save_path_full = 'models/rf_model_full.pkl'\n",
    "os.makedirs(os.path.dirname(save_path_full), exist_ok=True)\n",
    "joblib.dump(model_full, save_path_full)\n",
    "\n",
    "print(\"## 상위 6개 특성 모델 저장\")\n",
    "save_path_top6 = 'models/rf_model_top6.pkl'\n",
    "os.makedirs(os.path.dirname(save_path_top6), exist_ok=True)\n",
    "joblib.dump(model_top6, save_path_top6)\n",
    "\n",
    "print(\"## 최적의 특성 모델 저장\")\n",
    "save_path_best = 'models/rf_model_best.pkl'\n",
    "os.makedirs(os.path.dirname(save_path_best), exist_ok=True)\n",
    "joblib.dump(best_model, save_path_best)\n",
    "\n",
    "file_top6_features = 'models/top6_features.txt'\n",
    "with open(file_top6_features, 'w') as f:\n",
    "    for features in top_10_feature_names[:6]:\n",
    "        f.write(f\"{features}\\n\")\n",
    "\n",
    "file_best_features = 'models/best_features.txt'\n",
    "with open(file_best_features, 'w') as f:\n",
    "    for features in best_features:\n",
    "        f.write(f\"{features}\\n\")\n",
    "\n",
    "print(\"저장이 완료되었습니다.\")"
   ]
  }
 ],
 "metadata": {
  "kernelspec": {
   "display_name": "venv",
   "language": "python",
   "name": "python3"
  },
  "language_info": {
   "codemirror_mode": {
    "name": "ipython",
    "version": 3
   },
   "file_extension": ".py",
   "mimetype": "text/x-python",
   "name": "python",
   "nbconvert_exporter": "python",
   "pygments_lexer": "ipython3",
   "version": "3.12.4"
  }
 },
 "nbformat": 4,
 "nbformat_minor": 5
}
