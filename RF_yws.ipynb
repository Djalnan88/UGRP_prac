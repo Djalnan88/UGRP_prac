{
 "cells": [
  {
   "cell_type": "code",
   "execution_count": 2,
   "id": "42096c77",
   "metadata": {},
   "outputs": [],
   "source": [
    "import pandas as pd\n",
    "import numpy as np\n",
    "from sklearn.model_selection import train_test_split, GridSearchCV, StratifiedKFold\n",
    "from sklearn.ensemble import RandomForestClassifier\n",
    "from sklearn.feature_selection import RFECV\n",
    "\n",
    "from sklearn.metrics import classification_report, accuracy_score, recall_score, f1_score\n",
    "\n",
    "file_path = 'dataset/Wednesday-workingHours.pcap_ISCX.csv'\n",
    "data = pd.read_csv(file_path)"
   ]
  },
  {
   "cell_type": "code",
   "execution_count": 3,
   "id": "e161d23f",
   "metadata": {},
   "outputs": [
    {
     "name": "stdout",
     "output_type": "stream",
     "text": [
      "Train 데이터 크기: (588797, 78)\n",
      "Test 데이터 크기: (103906, 78)\n",
      "--------------------------------------------------\n"
     ]
    }
   ],
   "source": [
    "df = data.copy()\n",
    "df = df.sample(frac=1, random_state=42).reset_index(drop=True)\n",
    "df.columns = df.columns.str.strip().str.replace('[ /]', '_', regex=True)\n",
    "df.replace([np.inf, -np.inf], np.nan, inplace=True)\n",
    "df.fillna(0, inplace=True)\n",
    "\n",
    "X = df.drop('Label', axis=1)\n",
    "y = df['Label']\n",
    "y_binary = np.where(y == 'BENIGN', 0, 1)\n",
    "\n",
    "X_train, X_test, y_train, y_test = train_test_split(\n",
    "    X, y_binary, test_size=0.15, random_state=42, stratify=y_binary\n",
    ")\n",
    "\n",
    "print(f\"Train 데이터 크기: {X_train.shape}\")\n",
    "print(f\"Test 데이터 크기: {X_test.shape}\")\n",
    "print(\"-\" * 50)"
   ]
  },
  {
   "cell_type": "code",
   "execution_count": 4,
   "id": "b65f6773",
   "metadata": {},
   "outputs": [
    {
     "name": "stdout",
     "output_type": "stream",
     "text": [
      "## 1. 전체 Feature를 사용한 모델 학습 및 평가 ##\n",
      "최적의 하이퍼파라미터: {'max_depth': 20, 'min_samples_leaf': 1, 'n_estimators': 100}\n",
      "모델 정확도: 0.9996\n",
      "재현율 (Recall): 0.9996\n",
      "F1-Score: 0.9994\n",
      "성능 리포트:\n",
      "              precision    recall  f1-score   support\n",
      "\n",
      "  BENIGN (0)       1.00      1.00      1.00     66005\n",
      "  ATTACK (1)       1.00      1.00      1.00     37901\n",
      "\n",
      "    accuracy                           1.00    103906\n",
      "   macro avg       1.00      1.00      1.00    103906\n",
      "weighted avg       1.00      1.00      1.00    103906\n",
      "\n",
      "--------------------------------------------------\n"
     ]
    }
   ],
   "source": [
    "print(\"## 1. 전체 Feature를 사용한 모델 학습 및 평가 ##\")\n",
    "\n",
    "param_grid = {\n",
    "    'n_estimators': [50, 100],\n",
    "    'max_depth': [10, 20, None],\n",
    "    'min_samples_leaf': [1, 3, 5]\n",
    "}\n",
    "\n",
    "grid_search = GridSearchCV(\n",
    "    estimator=RandomForestClassifier(random_state=42, n_jobs=-1),\n",
    "    param_grid=param_grid,\n",
    "    scoring='f1',\n",
    "    cv=3\n",
    ")\n",
    "grid_search.fit(X_train, y_train)\n",
    "\n",
    "print(\"최적의 하이퍼파라미터:\", grid_search.best_params_)\n",
    "model_full = grid_search.best_estimator_\n",
    "\n",
    "y_pred_full = model_full.predict(X_test)\n",
    "accuracy_full = accuracy_score(y_test, y_pred_full)\n",
    "recall_full = recall_score(y_test, y_pred_full)\n",
    "f1_full = f1_score(y_test, y_pred_full)\n",
    "\n",
    "print(f\"모델 정확도: {accuracy_full:.4f}\")\n",
    "print(f\"재현율 (Recall): {recall_full:.4f}\")\n",
    "print(f\"F1-Score: {f1_full:.4f}\")\n",
    "print(\"성능 리포트:\")\n",
    "print(classification_report(y_test, y_pred_full, target_names=['BENIGN (0)', 'ATTACK (1)']))\n",
    "print(\"-\" * 50)"
   ]
  },
  {
   "cell_type": "code",
   "execution_count": 5,
   "id": "e3ad826a",
   "metadata": {},
   "outputs": [
    {
     "name": "stdout",
     "output_type": "stream",
     "text": [
      "## 2. Gini 중요도 기반 상위 10개 특성 추출 ##\n",
      "상위 10개 특성:\n",
      "                   feature  importance\n",
      "54    Avg_Bwd_Segment_Size    0.072658\n",
      "39       Max_Packet_Length    0.065274\n",
      "10   Bwd_Packet_Length_Max    0.062226\n",
      "52     Average_Packet_Size    0.056017\n",
      "41       Packet_Length_Std    0.055322\n",
      "0         Destination_Port    0.050446\n",
      "37           Bwd_Packets_s    0.048223\n",
      "13   Bwd_Packet_Length_Std    0.046351\n",
      "40      Packet_Length_Mean    0.045119\n",
      "42  Packet_Length_Variance    0.042129\n",
      "--------------------------------------------------\n"
     ]
    }
   ],
   "source": [
    "print(\"## 2. Gini 중요도 기반 상위 10개 특성 추출 ##\")\n",
    "importances = model_full.feature_importances_\n",
    "feature_importances = pd.DataFrame({'feature': X.columns, 'importance': importances})\n",
    "feature_importances = feature_importances.sort_values('importance', ascending=False)\n",
    "top_10_feature_names = feature_importances.head(10)['feature'].tolist()\n",
    "\n",
    "print(\"상위 10개 특성:\")\n",
    "print(feature_importances.head(10))\n",
    "print(\"-\" * 50)"
   ]
  },
  {
   "cell_type": "code",
   "execution_count": 6,
   "id": "10a7ccba",
   "metadata": {},
   "outputs": [
    {
     "name": "stdout",
     "output_type": "stream",
     "text": [
      "## 3. 상위 6개 특성만 사용한 모델 학습 및 평가 ##\n",
      "최적의 하이퍼파라미터 (상위 6개 특성): {'max_depth': None, 'min_samples_leaf': 1, 'n_estimators': 100}\n",
      "모델 정확도: 0.9861\n",
      "재현율 (Recall): 0.9994\n",
      "F1-Score: 0.9813\n",
      "성능 리포트:\n",
      "              precision    recall  f1-score   support\n",
      "\n",
      "  BENIGN (0)       1.00      0.98      0.99     66005\n",
      "  ATTACK (1)       0.96      1.00      0.98     37901\n",
      "\n",
      "    accuracy                           0.99    103906\n",
      "   macro avg       0.98      0.99      0.99    103906\n",
      "weighted avg       0.99      0.99      0.99    103906\n",
      "\n",
      "--------------------------------------------------\n"
     ]
    }
   ],
   "source": [
    "print(\"## 3. 상위 6개 특성만 사용한 모델 학습 및 평가 ##\")\n",
    "X_train_top6 = X_train[top_10_feature_names[:6]]\n",
    "X_test_top6 = X_test[top_10_feature_names[:6]]\n",
    "\n",
    "grid_search_top6 = GridSearchCV(\n",
    "    estimator=RandomForestClassifier(random_state=42, n_jobs=-1),\n",
    "    param_grid=param_grid,\n",
    "    scoring='f1',\n",
    "    cv=3\n",
    ")\n",
    "grid_search_top6.fit(X_train_top6, y_train)\n",
    "\n",
    "print(\"최적의 하이퍼파라미터 (상위 6개 특성):\", grid_search_top6.best_params_)\n",
    "model_top6 = grid_search_top6.best_estimator_\n",
    "\n",
    "y_pred_top6 = model_top6.predict(X_test_top6)\n",
    "accuracy_top6 = accuracy_score(y_test, y_pred_top6)\n",
    "recall_top6 = recall_score(y_test, y_pred_top6)\n",
    "f1_top6 = f1_score(y_test, y_pred_top6)\n",
    "\n",
    "print(f\"모델 정확도: {accuracy_top6:.4f}\")\n",
    "print(f\"재현율 (Recall): {recall_top6:.4f}\")\n",
    "print(f\"F1-Score: {f1_top6:.4f}\")\n",
    "print(\"성능 리포트:\")\n",
    "print(classification_report(y_test, y_pred_top6, target_names=['BENIGN (0)', 'ATTACK (1)']))\n",
    "print(\"-\" * 50)"
   ]
  },
  {
   "cell_type": "code",
   "execution_count": null,
   "id": "358541a7",
   "metadata": {},
   "outputs": [
    {
     "name": "stdout",
     "output_type": "stream",
     "text": [
      "## 4. RFECV 기반 최적의 특성 개수 및 목록 추출 ##\n"
     ]
    }
   ],
   "source": [
    "print(\"## 4. RFECV 기반 최적의 특성 개수 및 목록 추출 ##\")\n",
    "\n",
    "cv_strategy = StratifiedKFold(n_splits=3)\n",
    "\n",
    "rfecv = RFECV(\n",
    "    estimator=model_full,\n",
    "    step=1,\n",
    "    cv=cv_strategy,\n",
    "    scoring='f1',\n",
    "    n_jobs=-1\n",
    ")\n",
    "\n",
    "rfecv.fit(X_train, y_train)\n",
    "rfecv.best_estimator_\n",
    "best_features = X_train.columns[rfecv.support_]\n",
    "print(f\"\\n최적의 특성 개수: {rfecv.n_features_}\")\n",
    "print(\"선택된 특성 목록:\", best_features.tolist())\n",
    "print(\"-\" * 50)"
   ]
  },
  {
   "cell_type": "code",
   "execution_count": null,
   "id": "c93e5c39",
   "metadata": {},
   "outputs": [],
   "source": [
    "print(\"## 5. 최적의 특성을 사용한 모델 학습 및 평가 ##\")\n",
    "\n",
    "X_train_best = X_train[best_features]\n",
    "X_test_best = X_test[best_features]\n",
    "\n",
    "model_best = grid_search.best_estimator_\n",
    "model_best.fit(X_train_best, y_train)\n",
    "\n",
    "y_pred_best = model_best.predict(X_test_best)\n",
    "accuracy_best = accuracy_score(y_test, y_pred_best)\n",
    "recall_best = recall_score(y_test, y_pred_best)\n",
    "f1_best = f1_score(y_test, y_pred_best)\n",
    "\n",
    "print(f\"모델 정확도: {accuracy_best:.4f}\")\n",
    "print(f\"재현율 (Recall): {recall_best:.4f}\")\n",
    "print(f\"F1-Score: {f1_best:.4f}\")\n",
    "print(\"성능 리포트:\")\n",
    "print(classification_report(y_test, y_pred_best, target_names=['BENIGN (0)', 'ATTACK (1)']))\n",
    "print(\"-\" * 50)"
   ]
  },
  {
   "cell_type": "code",
   "execution_count": null,
   "id": "3baf6221",
   "metadata": {},
   "outputs": [
    {
     "name": "stdout",
     "output_type": "stream",
     "text": [
      "## 4. 최적의 하이퍼파라미터로 재학습 및 시간 측정 ##\n",
      "전체 특성으로 재학습 시간: 21.7855초\n",
      "상위 6개 특성으로 재학습 시간: 6.8750초\n",
      "--------------------------------------------------\n"
     ]
    }
   ],
   "source": [
    "print(\"## 6. 최적의 하이퍼파라미터로 재학습 및 시간 측정 ##\")\n",
    "import time\n",
    "\n",
    "start_time = time.time()\n",
    "best_full = grid_search.best_estimator_\n",
    "best_full.fit(X_train, y_train)\n",
    "end_time = time.time()\n",
    "print(f\"전체 특성으로 재학습 시간: {end_time - start_time:.4f}초\")\n",
    "\n",
    "start_time_top6 = time.time()\n",
    "best_top6 = grid_search_top6.best_estimator_\n",
    "best_top6.fit(X_train_top6, y_train)\n",
    "end_time_top6 = time.time()\n",
    "print(f\"상위 6개 특성으로 재학습 시간: {end_time_top6 - start_time_top6:.4f}초\")\n",
    "\n",
    "start_time_best = time.time()\n",
    "best_model = model_best\n",
    "best_model.fit(X_train_best, y_train)\n",
    "end_time_best = time.time()\n",
    "print(f\"최적의 특성으로 재학습 시간: {end_time_best - start_time_best:.4f}초\")\n",
    "\n",
    "print(\"-\" * 50)"
   ]
  },
  {
   "cell_type": "code",
   "execution_count": null,
   "id": "6a5a7890",
   "metadata": {},
   "outputs": [
    {
     "name": "stdout",
     "output_type": "stream",
     "text": [
      "## 5. 최종 성능 비교 ##\n",
      "[전체 특성 사용 모델]\n",
      " - 하이퍼파라미터: {'max_depth': 20, 'min_samples_leaf': 1, 'n_estimators': 100}\n",
      " - 정확도 (Accuracy): 0.9995\n",
      " - 재현율 (Recall): 0.9996\n",
      " - F1-Score: 0.9994\n",
      " - 학습 시간: 21.7855초\n",
      "[상위 6개 특성 사용 모델]\n",
      " - 하이퍼파라미터: {'max_depth': 20, 'min_samples_leaf': 1, 'n_estimators': 100}\n",
      " - 정확도 (Accuracy): 0.9861\n",
      " - 재현율 (Recall): 0.9993\n",
      " - F1-Score: 0.9813\n",
      " - 학습 시간: 6.8750초\n",
      "--------------------------------------------------\n"
     ]
    }
   ],
   "source": [
    "print(\"## 7. 최종 성능 비교 ##\")\n",
    "print(\"[전체 특성 사용 모델]\")\n",
    "print(f\" - 하이퍼파라미터: {grid_search.best_params_}\")\n",
    "print(f\" - 정확도 (Accuracy): {accuracy_full:.4f}\")\n",
    "print(f\" - 재현율 (Recall): {recall_full:.4f}\")\n",
    "print(f\" - F1-Score: {f1_full:.4f}\")\n",
    "print(f\" - 학습 시간: {end_time - start_time:.4f}초\")\n",
    "\n",
    "print(\"[상위 6개 특성 사용 모델]\")\n",
    "print(f\" - 하이퍼파라미터: {grid_search_top6.best_params_}\")\n",
    "print(f\" - 정확도 (Accuracy): {accuracy_top6:.4f}\")\n",
    "print(f\" - 재현율 (Recall): {recall_top6:.4f}\")\n",
    "print(f\" - F1-Score: {f1_top6:.4f}\")\n",
    "print(f\" - 학습 시간: {end_time_top6 - start_time_top6:.4f}초\")\n",
    "\n",
    "print(\"[최적의 특성 사용 모델]\")\n",
    "print(f\" - 하이퍼파라미터: {grid_search.best_params_}\")\n",
    "print(f\" - 정확도 (Accuracy): {accuracy_best:.4f}\")\n",
    "print(f\" - 재현율 (Recall): {recall_best:.4f}\")\n",
    "print(f\" - F1-Score: {f1_best:.4f}\")\n",
    "print(f\" - 학습 시간: {end_time_best - start_time_best:.4f}초\")\n",
    "\n",
    "print(\"-\" * 50)"
   ]
  },
  {
   "cell_type": "code",
   "execution_count": null,
   "id": "e6819f47",
   "metadata": {},
   "outputs": [
    {
     "name": "stdout",
     "output_type": "stream",
     "text": [
      "## 6. ROC curve 및 AUC ##\n"
     ]
    },
    {
     "data": {
      "text/plain": [
       "Text(0.5, 1.0, 'ROC Curve')"
      ]
     },
     "execution_count": 8,
     "metadata": {},
     "output_type": "execute_result"
    },
    {
     "data": {
      "image/png": "[encoded data removed]",
      "text/plain": [
       "<Figure size 720x432 with 1 Axes>"
      ]
     },
     "metadata": {
      "needs_background": "light"
     },
     "output_type": "display_data"
    }
   ],
   "source": [
    "print(\"## 8. ROC curve 및 AUC ##\")\n",
    "from matplotlib import pyplot as plt\n",
    "from sklearn.metrics import roc_curve, auc\n",
    "\n",
    "y_scores_full = model_full.predict_proba(X_test)[:, 1]\n",
    "y_scores_top6 = model_top6.predict_proba(X_test_top6)[:, 1]\n",
    "y_scores_best = best_model.predict_proba(X_test_best)[:, 1]\n",
    "\n",
    "fpr_full, tpr_full, _ = roc_curve(y_test, y_scores_full)\n",
    "fpr_top6, tpr_top6, _ = roc_curve(y_test, y_scores_top6)\n",
    "fpr_best, tpr_best, _ = roc_curve(y_test, y_scores_best)\n",
    "roc_auc_full = auc(fpr_full, tpr_full)\n",
    "roc_auc_top6 = auc(fpr_top6, tpr_top6)\n",
    "roc_auc_best = auc(fpr_best, tpr_best)\n",
    "\n",
    "plt.figure(figsize=(10, 6))\n",
    "plt.plot(fpr_full, tpr_full, color='blue', label=f'전체 특성 (AUC = {roc_auc_full:.2f})')\n",
    "plt.plot(fpr_top6, tpr_top6, color='orange', label=f'상위 6개 특성 (AUC = {roc_auc_top6:.2f})')\n",
    "plt.plot(fpr_best, tpr_best, color='green', label=f'최적의 특성 (AUC = {roc_auc_best:.2f})')\n",
    "plt.xlabel('False Positive Rate')\n",
    "plt.ylabel('True Positive Rate')\n",
    "plt.plot([0, 1], [0, 1], color='gray', linestyle='--')\n",
    "plt.title('ROC Curve')"
   ]
  },
  {
   "cell_type": "code",
   "execution_count": null,
   "id": "ece480d1",
   "metadata": {},
   "outputs": [
    {
     "name": "stdout",
     "output_type": "stream",
     "text": [
      "## 전체 특성 모델 저장\n",
      "## 상위 6개 특성 모델 저장\n",
      "저장이 완료되었습니다.\n"
     ]
    }
   ],
   "source": [
    "## 모델 저장\n",
    "import joblib\n",
    "import os\n",
    "\n",
    "print(\"## 전체 특성 모델 저장\")\n",
    "save_path_full = 'models/rf_model_full.pkl'\n",
    "os.makedirs(os.path.dirname(save_path_full), exist_ok=True)\n",
    "joblib.dump(model_full, save_path_full)\n",
    "\n",
    "print(\"## 상위 6개 특성 모델 저장\")\n",
    "save_path_top6 = 'models/rf_model_top6.pkl'\n",
    "os.makedirs(os.path.dirname(save_path_top6), exist_ok=True)\n",
    "joblib.dump(model_top6, save_path_top6)\n",
    "\n",
    "print(\"## 최적의 특성 모델 저장\")\n",
    "save_path_best = 'models/rf_model_best.pkl'\n",
    "os.makedirs(os.path.dirname(save_path_best), exist_ok=True)\n",
    "joblib.dump(best_model, save_path_best)\n",
    "\n",
    "file_top6_features = 'models/top6_features.txt'\n",
    "with open(file_top6_features, 'w') as f:\n",
    "    for features in top_10_feature_names[:6]:\n",
    "        f.write(f\"{features}\\n\")\n",
    "\n",
    "file_best_features = 'models/best_features.txt'\n",
    "with open(file_best_features, 'w') as f:\n",
    "    for features in best_features:\n",
    "        f.write(f\"{features}\\n\")\n",
    "\n",
    "print(\"저장이 완료되었습니다.\")"
   ]
  }
 ],
 "metadata": {
  "kernelspec": {
   "display_name": "venv",
   "language": "python",
   "name": "python3"
  },
  "language_info": {
   "codemirror_mode": {
    "name": "ipython",
    "version": 3
   },
   "file_extension": ".py",
   "mimetype": "text/x-python",
   "name": "python",
   "nbconvert_exporter": "python",
   "pygments_lexer": "ipython3",
   "version": "3.12.4"
  }
 },
 "nbformat": 4,
 "nbformat_minor": 5
}
