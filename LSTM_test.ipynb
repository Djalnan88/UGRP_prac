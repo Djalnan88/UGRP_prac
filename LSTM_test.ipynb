{
 "cells": [
  {
   "cell_type": "code",
   "execution_count": 1,
   "id": "1ec23f7b",
   "metadata": {},
   "outputs": [],
   "source": [
    "import pandas as pd\n",
    "import numpy as np\n",
    "import ipaddress\n",
    "import time\n",
    "import matplotlib.pyplot as plt\n",
    "\n",
    "import tensorflow as tf\n",
    "from sklearn.model_selection import GridSearchCV\n",
    "from sklearn.preprocessing import StandardScaler\n",
    "from sklearn.metrics import accuracy_score, recall_score, precision_score, f1_score\n",
    "from sklearn.metrics import roc_curve, auc\n",
    "from sklearn.utils import class_weight\n",
    "from scikeras.wrappers import KerasClassifier\n",
    "from tensorflow.keras.models import Sequential\n",
    "from tensorflow.keras.layers import LSTM, Dense, Dropout"
   ]
  },
  {
   "cell_type": "code",
   "execution_count": null,
   "id": "b9c0ec8c",
   "metadata": {},
   "outputs": [
    {
     "ename": "UnicodeDecodeError",
     "evalue": "'utf-8' codec can't decode byte 0x96 in position 22398: invalid start byte",
     "output_type": "error",
     "traceback": [
      "\u001b[31m---------------------------------------------------------------------------\u001b[39m",
      "\u001b[31mUnicodeDecodeError\u001b[39m                        Traceback (most recent call last)",
      "\u001b[36mCell\u001b[39m\u001b[36m \u001b[39m\u001b[32mIn[2]\u001b[39m\u001b[32m, line 13\u001b[39m\n\u001b[32m     11\u001b[39m data4 = pd.read_csv(dataset_path4)\n\u001b[32m     12\u001b[39m data5 = pd.read_csv(dataset_path5)\n\u001b[32m---> \u001b[39m\u001b[32m13\u001b[39m data6 = \u001b[43mpd\u001b[49m\u001b[43m.\u001b[49m\u001b[43mread_csv\u001b[49m\u001b[43m(\u001b[49m\u001b[43mdataset_path6\u001b[49m\u001b[43m)\u001b[49m\n",
      "\u001b[36mFile \u001b[39m\u001b[32mc:\\projects\\UGRP_prac\\venv\\Lib\\site-packages\\pandas\\io\\parsers\\readers.py:1026\u001b[39m, in \u001b[36mread_csv\u001b[39m\u001b[34m(filepath_or_buffer, sep, delimiter, header, names, index_col, usecols, dtype, engine, converters, true_values, false_values, skipinitialspace, skiprows, skipfooter, nrows, na_values, keep_default_na, na_filter, verbose, skip_blank_lines, parse_dates, infer_datetime_format, keep_date_col, date_parser, date_format, dayfirst, cache_dates, iterator, chunksize, compression, thousands, decimal, lineterminator, quotechar, quoting, doublequote, escapechar, comment, encoding, encoding_errors, dialect, on_bad_lines, delim_whitespace, low_memory, memory_map, float_precision, storage_options, dtype_backend)\u001b[39m\n\u001b[32m   1013\u001b[39m kwds_defaults = _refine_defaults_read(\n\u001b[32m   1014\u001b[39m     dialect,\n\u001b[32m   1015\u001b[39m     delimiter,\n\u001b[32m   (...)\u001b[39m\u001b[32m   1022\u001b[39m     dtype_backend=dtype_backend,\n\u001b[32m   1023\u001b[39m )\n\u001b[32m   1024\u001b[39m kwds.update(kwds_defaults)\n\u001b[32m-> \u001b[39m\u001b[32m1026\u001b[39m \u001b[38;5;28;01mreturn\u001b[39;00m \u001b[43m_read\u001b[49m\u001b[43m(\u001b[49m\u001b[43mfilepath_or_buffer\u001b[49m\u001b[43m,\u001b[49m\u001b[43m \u001b[49m\u001b[43mkwds\u001b[49m\u001b[43m)\u001b[49m\n",
      "\u001b[36mFile \u001b[39m\u001b[32mc:\\projects\\UGRP_prac\\venv\\Lib\\site-packages\\pandas\\io\\parsers\\readers.py:626\u001b[39m, in \u001b[36m_read\u001b[39m\u001b[34m(filepath_or_buffer, kwds)\u001b[39m\n\u001b[32m    623\u001b[39m     \u001b[38;5;28;01mreturn\u001b[39;00m parser\n\u001b[32m    625\u001b[39m \u001b[38;5;28;01mwith\u001b[39;00m parser:\n\u001b[32m--> \u001b[39m\u001b[32m626\u001b[39m     \u001b[38;5;28;01mreturn\u001b[39;00m \u001b[43mparser\u001b[49m\u001b[43m.\u001b[49m\u001b[43mread\u001b[49m\u001b[43m(\u001b[49m\u001b[43mnrows\u001b[49m\u001b[43m)\u001b[49m\n",
      "\u001b[36mFile \u001b[39m\u001b[32mc:\\projects\\UGRP_prac\\venv\\Lib\\site-packages\\pandas\\io\\parsers\\readers.py:1923\u001b[39m, in \u001b[36mTextFileReader.read\u001b[39m\u001b[34m(self, nrows)\u001b[39m\n\u001b[32m   1916\u001b[39m nrows = validate_integer(\u001b[33m\"\u001b[39m\u001b[33mnrows\u001b[39m\u001b[33m\"\u001b[39m, nrows)\n\u001b[32m   1917\u001b[39m \u001b[38;5;28;01mtry\u001b[39;00m:\n\u001b[32m   1918\u001b[39m     \u001b[38;5;66;03m# error: \"ParserBase\" has no attribute \"read\"\u001b[39;00m\n\u001b[32m   1919\u001b[39m     (\n\u001b[32m   1920\u001b[39m         index,\n\u001b[32m   1921\u001b[39m         columns,\n\u001b[32m   1922\u001b[39m         col_dict,\n\u001b[32m-> \u001b[39m\u001b[32m1923\u001b[39m     ) = \u001b[38;5;28;43mself\u001b[39;49m\u001b[43m.\u001b[49m\u001b[43m_engine\u001b[49m\u001b[43m.\u001b[49m\u001b[43mread\u001b[49m\u001b[43m(\u001b[49m\u001b[43m  \u001b[49m\u001b[38;5;66;43;03m# type: ignore[attr-defined]\u001b[39;49;00m\n\u001b[32m   1924\u001b[39m \u001b[43m        \u001b[49m\u001b[43mnrows\u001b[49m\n\u001b[32m   1925\u001b[39m \u001b[43m    \u001b[49m\u001b[43m)\u001b[49m\n\u001b[32m   1926\u001b[39m \u001b[38;5;28;01mexcept\u001b[39;00m \u001b[38;5;167;01mException\u001b[39;00m:\n\u001b[32m   1927\u001b[39m     \u001b[38;5;28mself\u001b[39m.close()\n",
      "\u001b[36mFile \u001b[39m\u001b[32mc:\\projects\\UGRP_prac\\venv\\Lib\\site-packages\\pandas\\io\\parsers\\c_parser_wrapper.py:234\u001b[39m, in \u001b[36mCParserWrapper.read\u001b[39m\u001b[34m(self, nrows)\u001b[39m\n\u001b[32m    232\u001b[39m \u001b[38;5;28;01mtry\u001b[39;00m:\n\u001b[32m    233\u001b[39m     \u001b[38;5;28;01mif\u001b[39;00m \u001b[38;5;28mself\u001b[39m.low_memory:\n\u001b[32m--> \u001b[39m\u001b[32m234\u001b[39m         chunks = \u001b[38;5;28;43mself\u001b[39;49m\u001b[43m.\u001b[49m\u001b[43m_reader\u001b[49m\u001b[43m.\u001b[49m\u001b[43mread_low_memory\u001b[49m\u001b[43m(\u001b[49m\u001b[43mnrows\u001b[49m\u001b[43m)\u001b[49m\n\u001b[32m    235\u001b[39m         \u001b[38;5;66;03m# destructive to chunks\u001b[39;00m\n\u001b[32m    236\u001b[39m         data = _concatenate_chunks(chunks)\n",
      "\u001b[36mFile \u001b[39m\u001b[32mpandas/_libs/parsers.pyx:838\u001b[39m, in \u001b[36mpandas._libs.parsers.TextReader.read_low_memory\u001b[39m\u001b[34m()\u001b[39m\n",
      "\u001b[36mFile \u001b[39m\u001b[32mpandas/_libs/parsers.pyx:905\u001b[39m, in \u001b[36mpandas._libs.parsers.TextReader._read_rows\u001b[39m\u001b[34m()\u001b[39m\n",
      "\u001b[36mFile \u001b[39m\u001b[32mpandas/_libs/parsers.pyx:874\u001b[39m, in \u001b[36mpandas._libs.parsers.TextReader._tokenize_rows\u001b[39m\u001b[34m()\u001b[39m\n",
      "\u001b[36mFile \u001b[39m\u001b[32mpandas/_libs/parsers.pyx:891\u001b[39m, in \u001b[36mpandas._libs.parsers.TextReader._check_tokenize_status\u001b[39m\u001b[34m()\u001b[39m\n",
      "\u001b[36mFile \u001b[39m\u001b[32mpandas/_libs/parsers.pyx:2053\u001b[39m, in \u001b[36mpandas._libs.parsers.raise_parser_error\u001b[39m\u001b[34m()\u001b[39m\n",
      "\u001b[36mFile \u001b[39m\u001b[32m<frozen codecs>:322\u001b[39m, in \u001b[36mdecode\u001b[39m\u001b[34m(self, input, final)\u001b[39m\n",
      "\u001b[31mUnicodeDecodeError\u001b[39m: 'utf-8' codec can't decode byte 0x96 in position 22398: invalid start byte"
     ]
    }
   ],
   "source": [
    "dataset_path1 = 'dataset/Friday-WorkingHours-Afternoon-PortScan.pcap_ISCX.csv'\n",
    "dataset_path2 = 'dataset/Friday-WorkingHours-Morning.pcap_ISCX.csv'\n",
    "dataset_path3 = 'dataset/Monday-WorkingHours.pcap_ISCX.csv'\n",
    "dataset_path4 = 'dataset/Thursday-WorkingHours-Afternoon-Infilteration.pcap_ISCX.csv'\n",
    "dataset_path5 = 'dataset/Tuesday-WorkingHours.pcap_ISCX.csv'\n",
    "dataset_path6 = 'dataset/Thursday-WorkingHours-Morning-WebAttacks.pcap_ISCX.csv'\n",
    "\n",
    "data1 = pd.read_csv(dataset_path1)\n",
    "data2 = pd.read_csv(dataset_path2)\n",
    "data3 = pd.read_csv(dataset_path3)\n",
    "data4 = pd.read_csv(dataset_path4)\n",
    "data5 = pd.read_csv(dataset_path5)\n",
    "# data6 = pd.read_csv(dataset_path6)"
   ]
  },
  {
   "cell_type": "code",
   "execution_count": null,
   "id": "507f4e45",
   "metadata": {},
   "outputs": [
    {
     "name": "stdout",
     "output_type": "stream",
     "text": [
      "데이터 전처리 및 시계열 데이터 생성 시작...\n"
     ]
    },
    {
     "name": "stderr",
     "output_type": "stream",
     "text": [
      "C:\\Users\\bell1\\AppData\\Local\\Temp\\ipykernel_10704\\3958384918.py:54: FutureWarning: 'T' is deprecated and will be removed in a future version, please use 'min' instead.\n",
      "  df_agg = df.resample(time_window).agg(agg_funcs)\n",
      "C:\\Users\\bell1\\AppData\\Local\\Temp\\ipykernel_10704\\3958384918.py:54: FutureWarning: 'T' is deprecated and will be removed in a future version, please use 'min' instead.\n",
      "  df_agg = df.resample(time_window).agg(agg_funcs)\n"
     ]
    },
    {
     "name": "stdout",
     "output_type": "stream",
     "text": [
      "데이터 전처리 및 시계열 데이터 생성 완료.\n",
      "Train 데이터 형태: (710, 10, 82)\n",
      "Test 데이터 형태: (83, 10, 82)\n",
      "--------------------------------------------------\n"
     ]
    }
   ],
   "source": [
    "# IP 주소를 정수로 변환하는 함수\n",
    "def convert_ip2int(ip):\n",
    "    try:\n",
    "        return int(ipaddress.ip_address(ip))\n",
    "    except ValueError:\n",
    "        return 0\n",
    "\n",
    "# 데이터 전처리 및 시계열 데이터 생성 함수\n",
    "def preprocess_and_create_sequences(data, time_window='1T', time_steps=10):\n",
    "    df = data.copy()\n",
    "    # 컬럼 이름 정리 및 결측치 처리\n",
    "    df.columns = df.columns.str.strip().str.replace('[ /]', '_', regex=True)\n",
    "    df.replace([np.inf, -np.inf], np.nan, inplace=True)\n",
    "    df.dropna(inplace=True)\n",
    "\n",
    "    # 타임스탬프 변환 및 IP 주소 정수 변환\n",
    "    df['Timestamp'] = pd.to_datetime(df['Timestamp'], errors='coerce')\n",
    "    df.dropna(subset=['Timestamp'], inplace=True)\n",
    "    \n",
    "    df['Source_IP'] = df['Source_IP'].astype(str).apply(convert_ip2int)\n",
    "    df['Destination_IP'] = df['Destination_IP'].astype(str).apply(convert_ip2int)\n",
    "    df.drop(columns=['Flow_ID'], inplace=True)\n",
    "\n",
    "    # 라벨 변환 및 집계\n",
    "    df.set_index('Timestamp', inplace=True)\n",
    "    df['Label'] = np.where(df['Label'] == 'BENIGN', 0, 1)\n",
    "\n",
    "    # 집계 함수 정의\n",
    "    agg_funcs = {col: 'mean' for col in df.columns if col not in ['Label', 'Source_IP', 'Destination_IP']}\n",
    "    agg_funcs['Total_Fwd_Packets'] = 'sum' # 분 단위 패킷의 합\n",
    "    agg_funcs['Total_Backward_Packets'] = 'sum' # 분 단위 패킷의 합\n",
    "    agg_funcs['Total_Length_of_Fwd_Packets'] = 'sum' # 분 단위 패킷의 합\n",
    "    agg_funcs['Label'] = 'max' # 해당 분에 하나라도 공격이 있으면 1로 표시\n",
    "    agg_funcs['Source_IP'] = 'nunique' # 고유한 Source IP의 개수\n",
    "    agg_funcs['Destination_IP'] = 'nunique' # 고유한 Destination IP의 개수\n",
    "\n",
    "    # time window(1분)에 따라 데이터 집계\n",
    "    df_agg = df.resample(time_window).agg(agg_funcs)\n",
    "    df_agg.fillna(0, inplace=True)\n",
    "\n",
    "    X_agg = df_agg.drop('Label', axis=1).values\n",
    "    y_agg = df_agg['Label'].values\n",
    "    \n",
    "    # 10분 단위의 시계열 데이터 생성\n",
    "    X_seq, y_seq = [], []\n",
    "    for i in range(len(X_agg) - time_steps):\n",
    "        X_seq.append(X_agg[i:(i + time_steps)])\n",
    "        y_seq.append(y_agg[i + time_steps - 1])\n",
    "        \n",
    "    return np.array(X_seq), np.array(y_seq)\n",
    "\n",
    "# 하이퍼파라미터 정의\n",
    "TIME_STEPS = 10\n",
    "TIME_WINDOW = '1T'\n",
    "\n",
    "print(\"데이터 전처리 및 시계열 데이터 생성 시작...\")\n",
    "X_data1_seq, y_data1_seq = preprocess_and_create_sequences(data1, time_window=TIME_WINDOW, time_steps=TIME_STEPS)\n",
    "X_data2_seq, y_data2_seq = preprocess_and_create_sequences(data2, time_window=TIME_WINDOW, time_steps=TIME_STEPS)\n",
    "X_data3_seq, y_data3_seq = preprocess_and_create_sequences(data3, time_window=TIME_WINDOW, time_steps=TIME_STEPS)\n",
    "X_data4_seq, y_data4_seq = preprocess_and_create_sequences(data4, time_window=TIME_WINDOW, time_steps=TIME_STEPS)\n",
    "X_data5_seq, y_data5_seq = preprocess_and_create_sequences(data5, time_window=TIME_WINDOW, time_steps=TIME_STEPS)\n",
    "# X_data6_seq, y_data6_seq = preprocess_and_create_sequences(data6, time_window=TIME_WINDOW, time_steps=TIME_STEPS)\n",
    "\n",
    "print(\"데이터 전처리 및 시계열 데이터 생성 완료.\")\n",
    "\n",
    "print(f\"Train 데이터 형태: {X_data1_seq.shape}\")\n",
    "print(f\"Test 데이터 형태: {X_data2_seq.shape}\")\n",
    "print(f\"Validation 데이터 형태: {X_data3_seq.shape}\")\n",
    "print(f\"Additional Train 데이터 형태: {X_data4_seq.shape}\")\n",
    "print(f\"Additional Test 데이터 형태: {X_data5_seq.shape}\")\n",
    "# print(f\"Additional Validation 데이터 형태: {X_data6_seq.shape}\")\n",
    "\n",
    "print(\"-\" * 50)\n",
    "\n"
   ]
  }
 ],
 "metadata": {
  "kernelspec": {
   "display_name": "venv (3.12.4)",
   "language": "python",
   "name": "python3"
  },
  "language_info": {
   "codemirror_mode": {
    "name": "ipython",
    "version": 3
   },
   "file_extension": ".py",
   "mimetype": "text/x-python",
   "name": "python",
   "nbconvert_exporter": "python",
   "pygments_lexer": "ipython3",
   "version": "3.12.4"
  }
 },
 "nbformat": 4,
 "nbformat_minor": 5
}
