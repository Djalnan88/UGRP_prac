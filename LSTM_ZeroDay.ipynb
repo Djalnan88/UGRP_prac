{
 "cells": [
  {
   "cell_type": "code",
   "execution_count": 1,
   "id": "d9e53446",
   "metadata": {},
   "outputs": [
    {
     "name": "stdout",
     "output_type": "stream",
     "text": [
      "WARNING:tensorflow:From c:\\Users\\jalna\\AppData\\Local\\Programs\\Python\\Python311\\Lib\\site-packages\\keras\\src\\losses.py:2976: The name tf.losses.sparse_softmax_cross_entropy is deprecated. Please use tf.compat.v1.losses.sparse_softmax_cross_entropy instead.\n",
      "\n"
     ]
    }
   ],
   "source": [
    "import pandas as pd\n",
    "import numpy as np\n",
    "import os\n",
    "from sklearn.preprocessing import StandardScaler\n",
    "import tensorflow as tf\n",
    "import matplotlib.pyplot as plt\n",
    "from sklearn.metrics import roc_curve, auc, classification_report, accuracy_score, recall_score, f1_score, confusion_matrix\n",
    "import seaborn as sns\n",
    "import ipaddress\n",
    "from sklearn.ensemble import RandomForestClassifier\n",
    "from scikeras.wrappers import KerasClassifier\n",
    "from tensorflow.keras.models import Sequential\n",
    "from tensorflow.keras.layers import LSTM, Dense, Dropout\n",
    "import time\n",
    "from sklearn.utils import class_weight"
   ]
  },
  {
   "cell_type": "code",
   "execution_count": 2,
   "id": "64782c87",
   "metadata": {},
   "outputs": [],
   "source": [
    "import ipaddress\n",
    "import pandas as pd\n",
    "import numpy as np\n",
    "import os\n",
    "\n",
    "# IP 주소를 정수로 변환하는 함수\n",
    "def convert_ip2int(ip):\n",
    "    try:\n",
    "        return int(ipaddress.ip_address(ip))\n",
    "    except ValueError:\n",
    "        return 0\n",
    "\n",
    "# 데이터 로딩, 전처리 및 시계열 데이터 생성을 위한 통합 함수\n",
    "def load_preprocess_and_sequence_data(file_paths, data_path='dataset/', time_window='1T', time_steps=10):\n",
    "    df_list = []\n",
    "    for file_name in file_paths:\n",
    "        file_path = os.path.join(data_path, file_name)\n",
    "        df = pd.read_csv(file_path, encoding='latin1', low_memory=False, on_bad_lines='skip')\n",
    "        df.columns = df.columns.str.strip()\n",
    "        df_list.append(df)\n",
    "\n",
    "    full_df = pd.concat(df_list, ignore_index=True)\n",
    "\n",
    "    # 2. 전처리\n",
    "    full_df.columns = full_df.columns.str.replace('[ /]', '_', regex=True)\n",
    "    full_df.replace([np.inf, -np.inf], np.nan, inplace=True)\n",
    "\n",
    "        \n",
    "    full_df.dropna(subset=['Timestamp'], inplace=True)\n",
    "    full_df['Timestamp'] = pd.to_datetime(full_df['Timestamp'], errors='coerce')\n",
    "    full_df.dropna(subset=['Timestamp'], inplace=True)\n",
    "\n",
    "    full_df['Source_IP'] = full_df['Source_IP'].astype(str).apply(convert_ip2int)\n",
    "    full_df['Destination_IP'] = full_df['Destination_IP'].astype(str).apply(convert_ip2int)\n",
    "\n",
    "    full_df.drop(columns=['Flow_ID'], inplace=True)\n",
    "\n",
    "    full_df.fillna(0, inplace=True)\n",
    "\n",
    "    full_df.set_index('Timestamp', inplace=True)\n",
    "        \n",
    "    full_df['Label'] = np.where(full_df['Label'] == 'BENIGN', 0, 1)\n",
    "\n",
    "    # 3. 데이터 집계\n",
    "    numeric_cols = full_df.select_dtypes(include=np.number).columns.tolist()\n",
    "    agg_funcs = {col: 'mean' for col in numeric_cols if col not in ['Label']}\n",
    "    agg_funcs.update({'Label': 'max'})\n",
    "    \n",
    "    special_aggs = {\n",
    "        'Total_Fwd_Packets': 'sum', 'Total_Backward_Packets': 'sum',\n",
    "        'Total_Length_of_Fwd_Packets': 'sum', 'Source_IP': 'nunique', 'Destination_IP': 'nunique'\n",
    "    }\n",
    "    for col, func in special_aggs.items():\n",
    "        if col in full_df.columns:\n",
    "            agg_funcs[col] = func\n",
    "\n",
    "    agg_funcs = {k: v for k, v in agg_funcs.items() if k in full_df.columns}\n",
    "\n",
    "    df_agg = full_df.resample(time_window).agg(agg_funcs)\n",
    "    df_agg.fillna(0, inplace=True)\n",
    "\n",
    "    # 4. 시퀀스 생성\n",
    "    X_agg = df_agg.drop('Label', axis=1).values\n",
    "    y_agg = df_agg['Label'].values\n",
    "\n",
    "    X_seq, y_seq = [], []\n",
    "    if len(X_agg) > time_steps:\n",
    "        for i in range(len(X_agg) - time_steps):\n",
    "            X_seq.append(X_agg[i:(i + time_steps)])\n",
    "            y_seq.append(y_agg[i + time_steps - 1])\n",
    "    \n",
    "    return np.array(X_seq), np.array(y_seq)"
   ]
  },
  {
   "cell_type": "code",
   "execution_count": 3,
   "id": "17c7055c",
   "metadata": {},
   "outputs": [
    {
     "name": "stdout",
     "output_type": "stream",
     "text": [
      "학습용 파일: ['Friday-WorkingHours-Afternoon-DDos.pcap_ISCX.csv', 'Friday-WorkingHours-Afternoon-PortScan.pcap_ISCX.csv', 'Friday-WorkingHours-Morning.pcap_ISCX.csv', 'Monday-WorkingHours.pcap_ISCX.csv', 'Thursday-WorkingHours-Afternoon-Infilteration.pcap_ISCX.csv', 'Thursday-WorkingHours-Morning-WebAttacks.pcap_ISCX.csv', 'Tuesday-WorkingHours.pcap_ISCX.csv']\n",
      "테스트용 파일: ['Wednesday-workingHours.pcap_ISCX.csv']\n",
      "--------------------------------------------------\n",
      "원본 학습 데이터 형태: (131750, 10, 82), (131750,)\n",
      "원본 테스트 데이터 형태: (710, 10, 82), (710,)\n",
      "--------------------------------------------------\n",
      "스케일링된 학습 데이터 형태: (131750, 10, 82)\n",
      "스케일링된 테스트 데이터 형태: (710, 10, 82)\n",
      "--------------------------------------------------\n"
     ]
    }
   ],
   "source": [
    "# 하이퍼파라미터\n",
    "TIME_STEPS = 10\n",
    "TIME_WINDOW = '1T'\n",
    "\n",
    "# 1. 데이터 파일 분리\n",
    "data_path = 'dataset/'\n",
    "all_files = [f for f in os.listdir(data_path) if f.endswith('.csv')]\n",
    "train_files = [f for f in all_files if 'Wednesday' not in f]\n",
    "test_files = [f for f in all_files if 'Wednesday' in f]\n",
    "\n",
    "print(\"학습용 파일:\", train_files)\n",
    "print(\"테스트용 파일:\", test_files)\n",
    "print(\"-\" * 50)\n",
    "\n",
    "# 2. 데이터 로드 및 시퀀스 생성\n",
    "X_train_seq, y_train_seq = load_preprocess_and_sequence_data(train_files, data_path=data_path, time_window=TIME_WINDOW, time_steps=TIME_STEPS)\n",
    "X_test_seq, y_test_seq = load_preprocess_and_sequence_data(test_files, data_path=data_path, time_window=TIME_WINDOW, time_steps=TIME_STEPS)\n",
    "\n",
    "print(f\"원본 학습 데이터 형태: {X_train_seq.shape}, {y_train_seq.shape}\")\n",
    "print(f\"원본 테스트 데이터 형태: {X_test_seq.shape}, {y_test_seq.shape}\")\n",
    "print(\"-\" * 50)\n",
    "\n",
    "# 3. 데이터 스케일링\n",
    "nsamples, nsteps, nfeatures = X_train_seq.shape\n",
    "X_train_2d = X_train_seq.reshape((nsamples * nsteps, nfeatures))\n",
    "\n",
    "scaler = StandardScaler()\n",
    "X_train_scaled_2d = scaler.fit_transform(X_train_2d)\n",
    "X_train_scaled_seq = X_train_scaled_2d.reshape((nsamples, nsteps, nfeatures))\n",
    "\n",
    "nsamples_test, nsteps_test, nfeatures_test = X_test_seq.shape\n",
    "X_test_2d = X_test_seq.reshape((nsamples_test * nsteps_test, nfeatures_test))\n",
    "X_test_scaled_2d = scaler.transform(X_test_2d)\n",
    "X_test_scaled_seq = X_test_scaled_2d.reshape((nsamples_test, nsteps_test, nfeatures_test))\n",
    "\n",
    "print(f\"스케일링된 학습 데이터 형태: {X_train_scaled_seq.shape}\")\n",
    "print(f\"스케일링된 테스트 데이터 형태: {X_test_scaled_seq.shape}\")\n",
    "print(\"-\" * 50)"
   ]
  },
  {
   "cell_type": "code",
   "execution_count": 4,
   "id": "0be9c226",
   "metadata": {},
   "outputs": [
    {
     "name": "stdout",
     "output_type": "stream",
     "text": [
      "클래스 가중치: {0: 0.5016486821965168, 1: 152.13625866050808}\n"
     ]
    }
   ],
   "source": [
    "## 가중치 부여\n",
    "class_weights = class_weight.compute_class_weight(\n",
    "    class_weight='balanced',\n",
    "    classes=np.unique(y_train_seq),\n",
    "    y=y_train_seq\n",
    ")\n",
    "class_weights_dict = dict(enumerate(class_weights))\n",
    "\n",
    "print(f\"클래스 가중치: {class_weights_dict}\")"
   ]
  },
  {
   "cell_type": "code",
   "execution_count": 5,
   "id": "5be09cae",
   "metadata": {},
   "outputs": [
    {
     "name": "stdout",
     "output_type": "stream",
     "text": [
      "LSTM 모델 학습 시작...\n",
      "WARNING:tensorflow:From c:\\Users\\jalna\\AppData\\Local\\Programs\\Python\\Python311\\Lib\\site-packages\\keras\\src\\layers\\rnn\\lstm.py:148: The name tf.executing_eagerly_outside_functions is deprecated. Please use tf.compat.v1.executing_eagerly_outside_functions instead.\n",
      "\n",
      "Epoch 1/25\n",
      "WARNING:tensorflow:From c:\\Users\\jalna\\AppData\\Local\\Programs\\Python\\Python311\\Lib\\site-packages\\keras\\src\\utils\\tf_utils.py:492: The name tf.ragged.RaggedTensorValue is deprecated. Please use tf.compat.v1.ragged.RaggedTensorValue instead.\n",
      "\n",
      "WARNING:tensorflow:From c:\\Users\\jalna\\AppData\\Local\\Programs\\Python\\Python311\\Lib\\site-packages\\keras\\src\\engine\\base_layer_utils.py:384: The name tf.executing_eagerly_outside_functions is deprecated. Please use tf.compat.v1.executing_eagerly_outside_functions instead.\n",
      "\n",
      "4118/4118 [==============================] - 27s 6ms/step - loss: 0.0265 - accuracy: 0.9922\n",
      "Epoch 2/25\n",
      "4118/4118 [==============================] - 29s 7ms/step - loss: 0.0247 - accuracy: 0.9924\n",
      "Epoch 3/25\n",
      "4118/4118 [==============================] - 32s 8ms/step - loss: 0.0259 - accuracy: 0.9924\n",
      "Epoch 4/25\n",
      "4118/4118 [==============================] - 29s 7ms/step - loss: 0.0241 - accuracy: 0.9924\n",
      "Epoch 5/25\n",
      "4118/4118 [==============================] - 30s 7ms/step - loss: 0.0241 - accuracy: 0.9924\n",
      "Epoch 6/25\n",
      "4118/4118 [==============================] - 26s 6ms/step - loss: 0.0229 - accuracy: 0.9925\n",
      "Epoch 7/25\n",
      "4118/4118 [==============================] - 23s 6ms/step - loss: 0.0233 - accuracy: 0.9925\n",
      "Epoch 8/25\n",
      "4118/4118 [==============================] - 22s 5ms/step - loss: 0.0231 - accuracy: 0.9925\n",
      "Epoch 9/25\n",
      "4118/4118 [==============================] - 23s 6ms/step - loss: 0.0322 - accuracy: 0.9925\n",
      "Epoch 10/25\n",
      "4118/4118 [==============================] - 22s 5ms/step - loss: 0.0265 - accuracy: 0.9925\n",
      "Epoch 11/25\n",
      "4118/4118 [==============================] - 24s 6ms/step - loss: 0.0247 - accuracy: 0.9925\n",
      "Epoch 12/25\n",
      "4118/4118 [==============================] - 23s 6ms/step - loss: 0.0227 - accuracy: 0.9925\n",
      "Epoch 13/25\n",
      "4118/4118 [==============================] - 29s 7ms/step - loss: 0.0240 - accuracy: 0.9925\n",
      "Epoch 14/25\n",
      "4118/4118 [==============================] - 25s 6ms/step - loss: 0.0236 - accuracy: 0.9925\n",
      "Epoch 15/25\n",
      "4118/4118 [==============================] - 23s 6ms/step - loss: 0.0220 - accuracy: 0.9925\n",
      "Epoch 16/25\n",
      "4118/4118 [==============================] - 23s 6ms/step - loss: 0.0221 - accuracy: 0.9925\n",
      "Epoch 17/25\n",
      "4118/4118 [==============================] - 25s 6ms/step - loss: 0.0223 - accuracy: 0.9925\n",
      "Epoch 18/25\n",
      "4118/4118 [==============================] - 24s 6ms/step - loss: 0.0236 - accuracy: 0.9926\n",
      "Epoch 19/25\n",
      "4118/4118 [==============================] - 24s 6ms/step - loss: 0.0221 - accuracy: 0.9925\n",
      "Epoch 20/25\n",
      "4118/4118 [==============================] - 24s 6ms/step - loss: 0.0221 - accuracy: 0.9925\n",
      "Epoch 21/25\n",
      "4118/4118 [==============================] - 24s 6ms/step - loss: 0.0201 - accuracy: 0.9925\n",
      "Epoch 22/25\n",
      "4118/4118 [==============================] - 23s 6ms/step - loss: 0.0212 - accuracy: 0.9925\n",
      "Epoch 23/25\n",
      "4118/4118 [==============================] - 24s 6ms/step - loss: 0.0200 - accuracy: 0.9925\n",
      "Epoch 24/25\n",
      "4118/4118 [==============================] - 29s 7ms/step - loss: 0.0198 - accuracy: 0.9926\n",
      "Epoch 25/25\n",
      "4118/4118 [==============================] - 31s 7ms/step - loss: 0.0229 - accuracy: 0.9926\n",
      "LSTM 모델 학습 완료.\n"
     ]
    }
   ],
   "source": [
    "## LSTM\n",
    "def create_lstm_model(input_shape, lstm_units=100, dense_units=50, dropout_rate=0.2, learning_rate=0.001):\n",
    "    model = Sequential([\n",
    "        LSTM(lstm_units, activation='tanh', input_shape=input_shape),\n",
    "        Dropout(dropout_rate),\n",
    "        Dense(dense_units, activation='relu'),\n",
    "        Dropout(dropout_rate),\n",
    "        Dense(1, activation='sigmoid')\n",
    "    ])\n",
    "    optimizer = tf.keras.optimizers.Adam(learning_rate=learning_rate)\n",
    "    model.compile(optimizer=optimizer, loss='binary_crossentropy', metrics=['accuracy'])\n",
    "    return model\n",
    "\n",
    "print(\"LSTM 모델 학습 시작...\")\n",
    "LSTM_starttime = time.time()\n",
    "\n",
    "input_shape = (X_train_scaled_seq.shape[1], X_train_scaled_seq.shape[2])\n",
    "\n",
    "lstm_model = create_lstm_model(input_shape=input_shape)\n",
    "\n",
    "history = lstm_model.fit(\n",
    "    X_train_scaled_seq,\n",
    "    y_train_seq,\n",
    "    epochs=25,\n",
    "    batch_size=32,\n",
    "    verbose=1,\n",
    "    class_weight=class_weights_dict\n",
    ")\n",
    "LSTM_endtime = time.time()\n",
    "LSTM_time = LSTM_endtime - LSTM_starttime\n",
    "print(\"LSTM 모델 학습 완료.\")"
   ]
  },
  {
   "cell_type": "code",
   "execution_count": 18,
   "id": "204c18b2",
   "metadata": {},
   "outputs": [
    {
     "name": "stdout",
     "output_type": "stream",
     "text": [
      "23/23 [==============================] - 0s 4ms/step\n",
      "\n",
      "Evaluating model performance on the Test set...\n",
      "\n",
      "--- LSTM Results---\n",
      "Accuracy: 0.4310\n",
      "Recall:   1.0000\n",
      "F1-Score: 0.2986\n",
      "\n",
      "Classification Report:\n",
      "              precision    recall  f1-score   support\n",
      "\n",
      "  BENIGN (0)       1.00      0.35      0.52       624\n",
      "  ATTACK (1)       0.18      1.00      0.30        86\n",
      "\n",
      "    accuracy                           0.43       710\n",
      "   macro avg       0.59      0.68      0.41       710\n",
      "weighted avg       0.90      0.43      0.49       710\n",
      "\n"
     ]
    }
   ],
   "source": [
    "\n",
    "y_pred_lstm_prob = lstm_model.predict(X_test_scaled_seq).flatten()\n",
    "y_pred_lstm = (y_pred_lstm_prob > 0.5).astype(int)\n",
    "accuracy_lstm = accuracy_score(y_test_seq, y_pred_lstm)\n",
    "recall_lstm = recall_score(y_test_seq, y_pred_lstm)\n",
    "f1_lstm = f1_score(y_test_seq, y_pred_lstm)\n",
    "report = classification_report(y_test_seq, y_pred_lstm, target_names=['BENIGN (0)', 'ATTACK (1)'])\n",
    "\n",
    "print(\"\\nEvaluating model performance on the Test set...\")\n",
    "# Predict on the separate test set\n",
    "print(f\"\\n--- LSTM Results---\")\n",
    "print(f\"Accuracy: {accuracy_lstm:.4f}\")\n",
    "print(f\"Recall:   {recall_lstm:.4f}\")\n",
    "print(f\"F1-Score: {f1_lstm:.4f}\")\n",
    "print(\"\\nClassification Report:\")\n",
    "print(report)"
   ]
  },
  {
   "cell_type": "code",
   "execution_count": 19,
   "id": "65b4bd8b",
   "metadata": {},
   "outputs": [
    {
     "data": {
      "image/png": "[encoded data removed]",
      "text/plain": [
       "<Figure size 640x480 with 1 Axes>"
      ]
     },
     "metadata": {},
     "output_type": "display_data"
    }
   ],
   "source": [
    "## ROC Curve\n",
    "fpr_lstm, tpr_lstm, _ = roc_curve(y_test_seq, y_pred_lstm_prob)\n",
    "roc_auc_lstm = auc(fpr_lstm, tpr_lstm)\n",
    "plt.plot(fpr_lstm, tpr_lstm, color='blue', label=f'LSTM (AUC = {roc_auc_lstm:.4f})')\n",
    "\n",
    "plt.plot([0, 1], [0, 1], color='grey', linestyle='--')\n",
    "plt.xlabel('False Positive Rate')\n",
    "plt.ylabel('True Positive Rate')\n",
    "plt.title('ROC Curve Comparison')\n",
    "plt.legend()\n",
    "plt.grid()\n",
    "plt.show()"
   ]
  },
  {
   "cell_type": "code",
   "execution_count": 20,
   "id": "e2bef143",
   "metadata": {},
   "outputs": [
    {
     "data": {
      "image/png": "[encoded data removed]",
      "text/plain": [
       "<Figure size 800x600 with 2 Axes>"
      ]
     },
     "metadata": {},
     "output_type": "display_data"
    }
   ],
   "source": [
    "# Confusion Matrix\n",
    "cm_lstm = confusion_matrix(y_test_seq, y_pred_lstm)\n",
    "plt.figure(figsize=(8, 6))\n",
    "sns.heatmap(cm_lstm, annot=True, fmt='d', cmap='Oranges', xticklabels=['BENIGN', 'ATTACK'], yticklabels=['BENIGN', 'ATTACK'])\n",
    "plt.title('Confusion Matrix - LSTM')\n",
    "plt.ylabel('Actual Label')\n",
    "plt.xlabel('Predicted Label')\n",
    "plt.show()"
   ]
  }
 ],
 "metadata": {
  "kernelspec": {
   "display_name": "Python 3",
   "language": "python",
   "name": "python3"
  },
  "language_info": {
   "codemirror_mode": {
    "name": "ipython",
    "version": 3
   },
   "file_extension": ".py",
   "mimetype": "text/x-python",
   "name": "python",
   "nbconvert_exporter": "python",
   "pygments_lexer": "ipython3",
   "version": "3.11.5"
  }
 },
 "nbformat": 4,
 "nbformat_minor": 5
}
